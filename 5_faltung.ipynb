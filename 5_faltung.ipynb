{
 "cells": [
  {
   "cell_type": "markdown",
   "id": "b9299e69",
   "metadata": {},
   "source": [
    "# Faltung"
   ]
  },
  {
   "cell_type": "markdown",
   "id": "b731d71e",
   "metadata": {},
   "source": [
    "## Faltung von Vektoren"
   ]
  },
  {
   "cell_type": "markdown",
   "id": "310dc940",
   "metadata": {},
   "source": [
    "Bevor wir die Faltung von Vektoren mit Python durchführen, wollen wir uns mittels einiger theoretischer Aufgaben mit ihr auseinander setzen. "
   ]
  },
  {
   "cell_type": "markdown",
   "id": "a23284df",
   "metadata": {},
   "source": [
    "### Aufgabe 1"
   ]
  },
  {
   "cell_type": "markdown",
   "id": "165bbf5c",
   "metadata": {},
   "source": [
    "Nehmen wir an, dass wir einen Vektor der Länge $8$ und einen zweiten der Länge $3$ haben. Wie groß ist die Faltung der beiden Vektoren?"
   ]
  },
  {
   "cell_type": "markdown",
   "id": "3cf062bd",
   "metadata": {},
   "source": [
    "_Hier kannst du deine Lösung hinschreiben._"
   ]
  },
  {
   "cell_type": "markdown",
   "id": "3e7a645e",
   "metadata": {},
   "source": [
    "### Aufgabe 2"
   ]
  },
  {
   "cell_type": "markdown",
   "id": "a1c16255",
   "metadata": {},
   "source": [
    "Wie sieht es aus, wenn ein Vektor die Länge $12$ und der andere die Länge $6$ hat?"
   ]
  },
  {
   "cell_type": "markdown",
   "id": "b1c57d6a",
   "metadata": {},
   "source": []
  },
  {
   "cell_type": "markdown",
   "id": "de078798",
   "metadata": {},
   "source": [
    "### Aufgabe 3"
   ]
  },
  {
   "cell_type": "markdown",
   "id": "254bafe2",
   "metadata": {},
   "source": [
    "Gegeben seien zwei Vektoren der Länge $20$ und $3$, wobei wir den ersten Vektor um $2$ in jede Richtung padden. Wir groß ist der Output?"
   ]
  },
  {
   "cell_type": "markdown",
   "id": "71d51393",
   "metadata": {},
   "source": []
  },
  {
   "cell_type": "markdown",
   "id": "7426210a",
   "metadata": {},
   "source": [
    "### Aufgabe 4"
   ]
  },
  {
   "cell_type": "markdown",
   "id": "835e4207",
   "metadata": {},
   "source": [
    "Wie muss man einen Vektor der Länge $15$ padden, dass der Output der Faltung mit einem Kernel der Länge $4$ wieder die Länge des ursprünglichen Vektors haben soll?"
   ]
  },
  {
   "cell_type": "markdown",
   "id": "45db4623",
   "metadata": {},
   "source": []
  },
  {
   "cell_type": "markdown",
   "id": "caf3be5e",
   "metadata": {},
   "source": [
    "### Aufgabe 5"
   ]
  },
  {
   "cell_type": "markdown",
   "id": "b8d6ffc8",
   "metadata": {},
   "source": [
    "Der Vektor habe die Länge $10$ und der Kernel ist $2$ lang. Wir verwenden ein Stride von $2$. Wie groß ist der Output?"
   ]
  },
  {
   "cell_type": "markdown",
   "id": "e302c77c",
   "metadata": {},
   "source": []
  },
  {
   "cell_type": "markdown",
   "id": "ea098d3c",
   "metadata": {},
   "source": [
    "### Aufgabe 6"
   ]
  },
  {
   "cell_type": "markdown",
   "id": "17845251",
   "metadata": {},
   "source": [
    "Nun habe der Vektor die Länge $14$, der Kernel die Länge $5$, wir padden auf jeder Seite um $3$ und verwenden ein Stride von $4$. Wie groß ist der Output?"
   ]
  },
  {
   "cell_type": "markdown",
   "id": "0a16db32",
   "metadata": {},
   "source": []
  },
  {
   "cell_type": "markdown",
   "id": "4c977b89",
   "metadata": {},
   "source": [
    "### Aufgabe 7"
   ]
  },
  {
   "cell_type": "markdown",
   "id": "5445f9de",
   "metadata": {},
   "source": [
    "Finde eine allgemeine Formel, um die Länge des Outputs $o$ zu berechnen, wenn die Länge des Vektors $n$, die des Kernels $k$, das Padding $p_1$ und $p_2$ und das Stride $s$ ist."
   ]
  },
  {
   "cell_type": "markdown",
   "id": "0ff28160",
   "metadata": {},
   "source": []
  },
  {
   "cell_type": "markdown",
   "id": "3b85fe63",
   "metadata": {},
   "source": [
    "### Bonusaufgabe "
   ]
  },
  {
   "cell_type": "markdown",
   "id": "44932d82",
   "metadata": {},
   "source": [
    "Zeige anhand des Faltungsintegrals, dass die Faltung kommutativ ist."
   ]
  },
  {
   "cell_type": "markdown",
   "id": "e7487b28",
   "metadata": {},
   "source": []
  },
  {
   "cell_type": "markdown",
   "id": "b05cf6d8",
   "metadata": {},
   "source": [
    "### Aufgabe 8"
   ]
  },
  {
   "cell_type": "markdown",
   "id": "f19b53f6",
   "metadata": {},
   "source": [
    "Als nächstes wollen wir die Faltung von wei Vektoren mittels Python berechnen. Bestimmte die Faltung von `v` und `k` mit einer `for`-Schleife (Padding 0, Stride 1)."
   ]
  },
  {
   "cell_type": "code",
   "execution_count": 1,
   "id": "21169231",
   "metadata": {},
   "outputs": [],
   "source": [
    "import numpy as np\n",
    "\n",
    "v = np.array([0.4, -0.8, 0.7, 2.3, 1.8, 2.5, 2.2, 0.1, -0.6, 0.2])\n",
    "k = np.array([0.2, 1, 0.3])\n",
    "\n",
    "# ???"
   ]
  },
  {
   "cell_type": "markdown",
   "id": "84581718",
   "metadata": {},
   "source": [
    "### Aufgabe 9"
   ]
  },
  {
   "cell_type": "markdown",
   "id": "5a4defe0",
   "metadata": {},
   "source": [
    "Wie viele Operationen, also Additionen und Multiplikationen, werden dabei ausgeführt? "
   ]
  },
  {
   "cell_type": "markdown",
   "id": "ff94a9d8",
   "metadata": {},
   "source": []
  },
  {
   "cell_type": "markdown",
   "id": "b8cf9fd7",
   "metadata": {},
   "source": [
    "### Aufgabe 10"
   ]
  },
  {
   "cell_type": "markdown",
   "id": "2f7a9eb5",
   "metadata": {},
   "source": [
    "Schreibe nun eine Funktion, die die Faltung von zwei Vektoren ausführen kann, und teste sie."
   ]
  },
  {
   "cell_type": "code",
   "execution_count": null,
   "id": "105c07cb",
   "metadata": {},
   "outputs": [],
   "source": []
  },
  {
   "cell_type": "markdown",
   "id": "2a8e6f62",
   "metadata": {},
   "source": [
    "### Aufgabe 11"
   ]
  },
  {
   "cell_type": "markdown",
   "id": "69b41606",
   "metadata": {},
   "source": [
    "Wie viele Operationen werden hier ausgeführt, wenn `v` die Länge $n$ und `k` die Länge $k$ hat? "
   ]
  },
  {
   "cell_type": "markdown",
   "id": "3f6ceb29",
   "metadata": {},
   "source": []
  },
  {
   "cell_type": "markdown",
   "id": "68d49179",
   "metadata": {},
   "source": [
    "### Aufgabe 12"
   ]
  },
  {
   "cell_type": "markdown",
   "id": "61ee25ee",
   "metadata": {},
   "source": [
    "Von nun an werden wir die Funktion [`np.convolve`](https://numpy.org/doc/stable/reference/generated/numpy.convolve.html) verwenden. Falte den Vektor mit den angegebenen Kerneln und visualisiere die Resultate, um deren Effekt zu verstehen. Kannst du die Kernel kombinieren, um den Punkt mit dem größten Anstieg zu finden?"
   ]
  },
  {
   "cell_type": "code",
   "execution_count": 2,
   "id": "17afe9f3",
   "metadata": {},
   "outputs": [],
   "source": [
    "from matplotlib import pyplot as plt\n",
    "\n",
    "v = np.tanh(np.linspace(-5, 5)) + 0.05 * np.sin(np.linspace(-40, 40))\n",
    "\n",
    "k1 = np.array([0.2, 0.2, 0.2, 0.2, 0.2])\n",
    "k2 = np.array([1, 0, -1])\n",
    "k3 = np.array([-1, 2, -1])\n",
    "k4 = np.array([0.2, 0.6, 1, 0.6, 0.2])\n",
    "\n",
    "# ???"
   ]
  },
  {
   "cell_type": "markdown",
   "id": "cfbffc11",
   "metadata": {},
   "source": [
    "## Faltung von Matrizen"
   ]
  },
  {
   "cell_type": "markdown",
   "id": "6feb3425",
   "metadata": {},
   "source": [
    "### Aufgabe 13"
   ]
  },
  {
   "cell_type": "markdown",
   "id": "fe3cd19e",
   "metadata": {},
   "source": [
    "Nun wollen wir Faltungen in 2D mit einem Bild durchführen. Das Bild soll als `torch.tensor` representiert und auf das Intervall $[0, 1]$ skaliert werden. Visualisiere das Bild zunächst und wandele es in ein Schwarz-Weiß-Bild um."
   ]
  },
  {
   "cell_type": "code",
   "execution_count": null,
   "id": "9b4d017f",
   "metadata": {},
   "outputs": [],
   "source": [
    "import torch\n",
    "from matplotlib import image as mpimg\n",
    "\n",
    "img_ = mpimg.imread('data/katze.jpg') # Den Pfad musst du ggf. anpassen.\n",
    "\n",
    "# ???"
   ]
  },
  {
   "cell_type": "markdown",
   "id": "cbea9481",
   "metadata": {},
   "source": [
    "### Aufgabe 14"
   ]
  },
  {
   "cell_type": "markdown",
   "id": "04cc5cca",
   "metadata": {},
   "source": [
    "In `torch` können Faltungen in 2D mit der Funktion [`torch.nn.functional.conv2d`](https://pytorch.org/docs/stable/generated/torch.nn.functional.conv2d.html) durchgeführt werden. Dabei ist zu beachten, dass die Kernel, welche als `weight` bezeichnet werden, die Größe (Anzahl der Output Channel, Anzahl der Input Channel, Höhe, Breite) haben muss. Wenn wir nur jeweils einen Kanal haben, können wir einfach zusätzliche Dimensionen der Länge $1$ erzeugen, indem wir die Funktion [`torch.reshape`](https://pytorch.org/docs/stable/generated/torch.reshape.html?highlight=reshape#torch.reshape) verwenden.\n",
    "Führe die Faltung des Schwarz-Weiß-Bildes mit dem angegebenem Kernel durch."
   ]
  },
  {
   "cell_type": "code",
   "execution_count": null,
   "id": "46df99db",
   "metadata": {},
   "outputs": [],
   "source": [
    "k = torch.tensor([[-0.3, 0.4, 0.], \n",
    "                  [0.4, 0.1, -0.2], \n",
    "                  [0.2, 0.3, 0.1]], \n",
    "                 dtype=torch.float64)\n",
    "\n",
    "# Vorgegeben\n",
    "h, w = img_bw.shape\n",
    "conv = torch.nn.functional.conv2d(img_bw.reshape(1, 1, h, w), k.reshape(1, 1, 3, 3))\n",
    "\n",
    "plt.imshow(conv.reshape(h - 2, w - 2).numpy(), cmap='Greys')\n",
    "plt.show()\n"
   ]
  },
  {
   "cell_type": "markdown",
   "id": "df01fcb4",
   "metadata": {},
   "source": [
    "### Aufgabe 15"
   ]
  },
  {
   "cell_type": "markdown",
   "id": "61be1e2a",
   "metadata": {},
   "source": [
    "Finde einen Kernel, mit dem du das Bild glätten kannst."
   ]
  },
  {
   "cell_type": "code",
   "execution_count": null,
   "id": "bfc75627",
   "metadata": {},
   "outputs": [],
   "source": []
  },
  {
   "cell_type": "markdown",
   "id": "74b8f672",
   "metadata": {},
   "source": [
    "### Aufgabe 16"
   ]
  },
  {
   "cell_type": "markdown",
   "id": "637ad922",
   "metadata": {},
   "source": [
    "Finde außerdem Kernel, mit denen Ecken in $x$-, in $y$-Richtung, sowie richtungsunabhängig detektieren werden können."
   ]
  },
  {
   "cell_type": "code",
   "execution_count": null,
   "id": "72e16a50",
   "metadata": {},
   "outputs": [],
   "source": []
  }
 ],
 "metadata": {
  "kernelspec": {
   "display_name": "Python 3 (ipykernel)",
   "language": "python",
   "name": "python3"
  },
  "language_info": {
   "codemirror_mode": {
    "name": "ipython",
    "version": 3
   },
   "file_extension": ".py",
   "mimetype": "text/x-python",
   "name": "python",
   "nbconvert_exporter": "python",
   "pygments_lexer": "ipython3",
   "version": "3.9.12"
  }
 },
 "nbformat": 4,
 "nbformat_minor": 5
}
