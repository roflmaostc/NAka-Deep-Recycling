{
 "cells": [
  {
   "cell_type": "code",
   "execution_count": 1,
   "id": "ca2a02b1",
   "metadata": {},
   "outputs": [],
   "source": [
    "import numpy as np"
   ]
  },
  {
   "cell_type": "code",
   "execution_count": 10,
   "id": "cd80925f",
   "metadata": {},
   "outputs": [
    {
     "data": {
      "text/plain": [
       "[3, 1, 3, 4, 5]"
      ]
     },
     "execution_count": 10,
     "metadata": {},
     "output_type": "execute_result"
    }
   ],
   "source": [
    "l = [3,1,3,4,5]\n",
    "l"
   ]
  },
  {
   "cell_type": "code",
   "execution_count": 9,
   "id": "281e3103",
   "metadata": {},
   "outputs": [
    {
     "data": {
      "text/plain": [
       "[3, 4]"
      ]
     },
     "execution_count": 9,
     "metadata": {},
     "output_type": "execute_result"
    }
   ],
   "source": [
    "l2 = []\n",
    "# hängt Elemente hinten an\n",
    "l2.append(3)\n",
    "l2.append(4)\n",
    "l2"
   ]
  },
  {
   "cell_type": "code",
   "execution_count": 11,
   "id": "49ab0ac1",
   "metadata": {},
   "outputs": [
    {
     "data": {
      "text/plain": [
       "16"
      ]
     },
     "execution_count": 11,
     "metadata": {},
     "output_type": "execute_result"
    }
   ],
   "source": [
    "# diese methode summiert l2\n",
    "sum(l)"
   ]
  },
  {
   "cell_type": "code",
   "execution_count": 13,
   "id": "9018bfa9",
   "metadata": {},
   "outputs": [
    {
     "data": {
      "text/plain": [
       "[1, 3, 3, 4, 5]"
      ]
     },
     "execution_count": 13,
     "metadata": {},
     "output_type": "execute_result"
    }
   ],
   "source": [
    "l"
   ]
  },
  {
   "cell_type": "code",
   "execution_count": 15,
   "id": "624c6304",
   "metadata": {},
   "outputs": [
    {
     "data": {
      "text/plain": [
       "list"
      ]
     },
     "execution_count": 15,
     "metadata": {},
     "output_type": "execute_result"
    }
   ],
   "source": [
    "type(l)"
   ]
  },
  {
   "cell_type": "code",
   "execution_count": 22,
   "id": "4a7d190b",
   "metadata": {},
   "outputs": [],
   "source": [
    "# 1 dimensionales array\n",
    "M_1D = np.array([1,2,3])"
   ]
  },
  {
   "cell_type": "code",
   "execution_count": 21,
   "id": "74a93b75",
   "metadata": {
    "scrolled": true
   },
   "outputs": [
    {
     "data": {
      "text/plain": [
       "(3,)"
      ]
     },
     "execution_count": 21,
     "metadata": {},
     "output_type": "execute_result"
    }
   ],
   "source": [
    "M_1D.shape"
   ]
  },
  {
   "cell_type": "code",
   "execution_count": 26,
   "id": "fb34404d",
   "metadata": {},
   "outputs": [
    {
     "data": {
      "text/plain": [
       "array([[1, 2, 3],\n",
       "       [3, 4, 5],\n",
       "       [6, 7, 8]])"
      ]
     },
     "execution_count": 26,
     "metadata": {},
     "output_type": "execute_result"
    }
   ],
   "source": [
    "M_2D = np.array([[1,2,3], [3,4,5],[6,7,8]])\n",
    "\n",
    "M_2D"
   ]
  },
  {
   "cell_type": "code",
   "execution_count": 27,
   "id": "725c0549",
   "metadata": {
    "scrolled": true
   },
   "outputs": [
    {
     "data": {
      "text/plain": [
       "(3, 3)"
      ]
     },
     "execution_count": 27,
     "metadata": {},
     "output_type": "execute_result"
    }
   ],
   "source": [
    "M_2D.shape"
   ]
  },
  {
   "cell_type": "code",
   "execution_count": 69,
   "id": "6786b0a4",
   "metadata": {},
   "outputs": [],
   "source": [
    "naka_mat = np.array([[1,2,3],\n",
    "                     [3,4,5],\n",
    "                     [6,7,8],\n",
    "                     [9,10,11]])\n"
   ]
  },
  {
   "cell_type": "code",
   "execution_count": 70,
   "id": "323e145c",
   "metadata": {},
   "outputs": [
    {
     "data": {
      "text/plain": [
       "array([[ 1,  2,  3],\n",
       "       [ 3,  4,  5],\n",
       "       [ 6,  7,  8],\n",
       "       [ 9, 10, 11]])"
      ]
     },
     "execution_count": 70,
     "metadata": {},
     "output_type": "execute_result"
    }
   ],
   "source": [
    "naka_mat"
   ]
  },
  {
   "cell_type": "code",
   "execution_count": 91,
   "id": "88cdac17",
   "metadata": {
    "scrolled": true
   },
   "outputs": [
    {
     "data": {
      "text/plain": [
       "True"
      ]
     },
     "execution_count": 91,
     "metadata": {},
     "output_type": "execute_result"
    }
   ],
   "source": [
    "naka_mat[1,2] == 5"
   ]
  },
  {
   "cell_type": "code",
   "execution_count": 92,
   "id": "2ee3cbed",
   "metadata": {},
   "outputs": [
    {
     "data": {
      "text/plain": [
       "array([[ 1,  2,  3],\n",
       "       [ 3,  4,  5],\n",
       "       [ 6,  7,  8],\n",
       "       [ 9, 10, 11]])"
      ]
     },
     "execution_count": 92,
     "metadata": {},
     "output_type": "execute_result"
    }
   ],
   "source": [
    "naka_mat"
   ]
  },
  {
   "cell_type": "code",
   "execution_count": 38,
   "id": "bda30022",
   "metadata": {
    "scrolled": true
   },
   "outputs": [
    {
     "data": {
      "text/plain": [
       "(4, 3)"
      ]
     },
     "execution_count": 38,
     "metadata": {},
     "output_type": "execute_result"
    }
   ],
   "source": [
    "naka_mat.shape"
   ]
  },
  {
   "cell_type": "code",
   "execution_count": 40,
   "id": "e11fbc87",
   "metadata": {},
   "outputs": [
    {
     "data": {
      "text/plain": [
       "11"
      ]
     },
     "execution_count": 40,
     "metadata": {},
     "output_type": "execute_result"
    }
   ],
   "source": [
    "# indexierung der 1. Dimension\n",
    "naka_mat[3,2]"
   ]
  },
  {
   "cell_type": "code",
   "execution_count": 41,
   "id": "f01b58d5",
   "metadata": {},
   "outputs": [
    {
     "data": {
      "text/plain": [
       "True"
      ]
     },
     "execution_count": 41,
     "metadata": {},
     "output_type": "execute_result"
    }
   ],
   "source": [
    "naka_mat[2,1] == 7"
   ]
  },
  {
   "cell_type": "code",
   "execution_count": 42,
   "id": "858d1bdf",
   "metadata": {},
   "outputs": [
    {
     "ename": "IndexError",
     "evalue": "index 3 is out of bounds for axis 1 with size 3",
     "output_type": "error",
     "traceback": [
      "\u001b[0;31m---------------------------------------------------------------------------\u001b[0m",
      "\u001b[0;31mIndexError\u001b[0m                                Traceback (most recent call last)",
      "Input \u001b[0;32mIn [42]\u001b[0m, in \u001b[0;36m<cell line: 1>\u001b[0;34m()\u001b[0m\n\u001b[0;32m----> 1\u001b[0m \u001b[43mnaka_mat\u001b[49m\u001b[43m[\u001b[49m\u001b[38;5;241;43m1\u001b[39;49m\u001b[43m,\u001b[49m\u001b[38;5;241;43m3\u001b[39;49m\u001b[43m]\u001b[49m\n",
      "\u001b[0;31mIndexError\u001b[0m: index 3 is out of bounds for axis 1 with size 3"
     ]
    }
   ],
   "source": [
    "naka_mat[1,3]"
   ]
  },
  {
   "cell_type": "code",
   "execution_count": null,
   "id": "a51967df",
   "metadata": {},
   "outputs": [],
   "source": [
    "M_2D_[]"
   ]
  },
  {
   "cell_type": "code",
   "execution_count": 16,
   "id": "f367dbf4",
   "metadata": {},
   "outputs": [
    {
     "data": {
      "text/plain": [
       "numpy.ndarray"
      ]
     },
     "execution_count": 16,
     "metadata": {},
     "output_type": "execute_result"
    }
   ],
   "source": [
    "type(M)"
   ]
  },
  {
   "cell_type": "code",
   "execution_count": 48,
   "id": "ddc97520",
   "metadata": {
    "scrolled": true
   },
   "outputs": [],
   "source": [
    "M_3D = np.array([[[1,2],[4,5]],\n",
    "                 [[1,2],[4,5]]])"
   ]
  },
  {
   "cell_type": "code",
   "execution_count": 86,
   "id": "9a9e6fa8",
   "metadata": {},
   "outputs": [
    {
     "data": {
      "text/plain": [
       "5.72180227524106"
      ]
     },
     "execution_count": 86,
     "metadata": {},
     "output_type": "execute_result"
    }
   ],
   "source": [
    "np.max(np.random.randn(100000000))"
   ]
  },
  {
   "cell_type": "code",
   "execution_count": 81,
   "id": "f548f887",
   "metadata": {},
   "outputs": [
    {
     "data": {
      "text/plain": [
       "array([[[0.78863666, 0.39574457, 0.6636351 ],\n",
       "        [0.16638317, 0.02720542, 0.84011382]]])"
      ]
     },
     "execution_count": 81,
     "metadata": {},
     "output_type": "execute_result"
    }
   ],
   "source": [
    "M_5D = np.random.rand(1,2,3)\n",
    "M_5D"
   ]
  },
  {
   "cell_type": "code",
   "execution_count": 56,
   "id": "1bc8354c",
   "metadata": {},
   "outputs": [
    {
     "data": {
      "text/plain": [
       "(13, 2, 3, 4, 5)"
      ]
     },
     "execution_count": 56,
     "metadata": {},
     "output_type": "execute_result"
    }
   ],
   "source": [
    "M_5D.shape"
   ]
  },
  {
   "cell_type": "code",
   "execution_count": 60,
   "id": "2d51b8a9",
   "metadata": {
    "scrolled": false
   },
   "outputs": [
    {
     "data": {
      "text/plain": [
       "array([], shape=(0, 2, 3, 4, 5), dtype=float64)"
      ]
     },
     "execution_count": 60,
     "metadata": {},
     "output_type": "execute_result"
    }
   ],
   "source": [
    "M_5D"
   ]
  },
  {
   "cell_type": "code",
   "execution_count": 58,
   "id": "32e106c8",
   "metadata": {},
   "outputs": [
    {
     "data": {
      "text/plain": [
       "0.6118978987880566"
      ]
     },
     "execution_count": 58,
     "metadata": {},
     "output_type": "execute_result"
    }
   ],
   "source": [
    "M_5D[11,0, 1, 2, 1]"
   ]
  },
  {
   "cell_type": "code",
   "execution_count": 52,
   "id": "91997025",
   "metadata": {
    "scrolled": false
   },
   "outputs": [
    {
     "data": {
      "text/plain": [
       "0.12691567109695723"
      ]
     },
     "execution_count": 52,
     "metadata": {},
     "output_type": "execute_result"
    }
   ],
   "source": [
    "M_5D[0,0, 1, 2, 1]"
   ]
  },
  {
   "cell_type": "code",
   "execution_count": 88,
   "id": "72acb594",
   "metadata": {},
   "outputs": [],
   "source": [
    "?np.random.uniform"
   ]
  },
  {
   "cell_type": "code",
   "execution_count": null,
   "id": "5a41557f",
   "metadata": {},
   "outputs": [],
   "source": [
    "import numpy as np"
   ]
  },
  {
   "cell_type": "markdown",
   "id": "7cc4450d",
   "metadata": {},
   "source": [
    "# 1. Lineare Algebra\n",
    "\n",
    "Lineare Algebra ist ein fundamentaler Baustein von Machine Learning.\n",
    "Daher sind die Grundlagen und die Implementierung einiger Methoden interessant und wichtig.\n",
    "\n",
    "Eine Matrix $M_{ij}$ (Zeile $i$ und Spalte $j$) können wir in Python mit einem 2 dimensionalem NumPy array sehr leicht darstellen.\n",
    "Zum Beispiel folgende Telefonmatrix:"
   ]
  },
  {
   "cell_type": "code",
   "execution_count": 93,
   "id": "01654f41",
   "metadata": {},
   "outputs": [
    {
     "data": {
      "text/plain": [
       "array([[1, 2, 3],\n",
       "       [4, 5, 6],\n",
       "       [7, 8, 9]])"
      ]
     },
     "execution_count": 93,
     "metadata": {},
     "output_type": "execute_result"
    }
   ],
   "source": [
    "M = np.array([[1,2,3],[4,5,6],[7,8,9]])\n",
    "M"
   ]
  },
  {
   "cell_type": "markdown",
   "id": "f0c98e66",
   "metadata": {},
   "source": [
    "Ein Vektor hingegenen, wird oft als 1 dimensionales NumPy array ausgedrückt:"
   ]
  },
  {
   "cell_type": "code",
   "execution_count": 94,
   "id": "6075e31c",
   "metadata": {
    "scrolled": true
   },
   "outputs": [
    {
     "data": {
      "text/plain": [
       "array([1, 2, 3])"
      ]
     },
     "execution_count": 94,
     "metadata": {},
     "output_type": "execute_result"
    }
   ],
   "source": [
    "v = np.array([1, 2, 3])\n",
    "v"
   ]
  },
  {
   "cell_type": "markdown",
   "id": "57389912",
   "metadata": {},
   "source": [
    "Versuche nun das richtige Ergebnis per Hand auszurechnen. Du kannst es dann mit folgendem Befehl überprüfen:"
   ]
  },
  {
   "cell_type": "code",
   "execution_count": 96,
   "id": "0cf8eb29",
   "metadata": {},
   "outputs": [
    {
     "data": {
      "text/plain": [
       "array([[ 1, -2,  3],\n",
       "       [ 1, -2,  3],\n",
       "       [ 1, -2,  3]])"
      ]
     },
     "execution_count": 96,
     "metadata": {},
     "output_type": "execute_result"
    }
   ],
   "source": [
    "np.array([[1,2,3],\n",
    "          [1,2,3],\n",
    "          [1,2,3]]) * np.array([1, -1, 1],\n",
    "                               [1, -1, 1],\n",
    "                               [1,-1, 1])"
   ]
  },
  {
   "cell_type": "code",
   "execution_count": 95,
   "id": "77aa5230",
   "metadata": {},
   "outputs": [
    {
     "data": {
      "text/plain": [
       "array([[ 1,  4,  9],\n",
       "       [ 4, 10, 18],\n",
       "       [ 7, 16, 27]])"
      ]
     },
     "execution_count": 95,
     "metadata": {},
     "output_type": "execute_result"
    }
   ],
   "source": [
    "M * v"
   ]
  },
  {
   "cell_type": "code",
   "execution_count": 98,
   "id": "929528cc",
   "metadata": {
    "scrolled": false
   },
   "outputs": [
    {
     "data": {
      "text/plain": [
       "True"
      ]
     },
     "execution_count": 98,
     "metadata": {},
     "output_type": "execute_result"
    }
   ],
   "source": [
    "# trage auf der rechten Seite das richtige Ergebnis ein\n",
    "np.all(np.dot(M, v) == np.array([14, 32, 50]))"
   ]
  },
  {
   "cell_type": "code",
   "execution_count": 99,
   "id": "f99dcc2e",
   "metadata": {},
   "outputs": [
    {
     "data": {
      "text/plain": [
       "True"
      ]
     },
     "execution_count": 99,
     "metadata": {},
     "output_type": "execute_result"
    }
   ],
   "source": [
    "# trage auf der rechten Seite das richtige Ergebnis ein\n",
    "np.all(np.dot(M, np.array([3,2,1])) == np.array([10, 28, 46]))"
   ]
  },
  {
   "cell_type": "markdown",
   "id": "38e4b185",
   "metadata": {},
   "source": [
    "Man kann von einer Matrix auch das transponierte Bilden: $M'$\n",
    "\n",
    "Was bedeutet das? Finde die Antwort mit `np.transpose`"
   ]
  },
  {
   "cell_type": "code",
   "execution_count": 101,
   "id": "d57200a9",
   "metadata": {
    "scrolled": true
   },
   "outputs": [
    {
     "data": {
      "text/plain": [
       "array([[1, 2, 3],\n",
       "       [4, 5, 6],\n",
       "       [7, 8, 9]])"
      ]
     },
     "execution_count": 101,
     "metadata": {},
     "output_type": "execute_result"
    }
   ],
   "source": [
    "M"
   ]
  },
  {
   "cell_type": "code",
   "execution_count": 107,
   "id": "101ecb36",
   "metadata": {},
   "outputs": [],
   "source": [
    "N = np.array([[1,2,3,4],\n",
    "              [5,6,7,8]])"
   ]
  },
  {
   "cell_type": "code",
   "execution_count": 106,
   "id": "cf9db1f4",
   "metadata": {},
   "outputs": [
    {
     "data": {
      "text/plain": [
       "array([[1, 5],\n",
       "       [2, 6],\n",
       "       [3, 7],\n",
       "       [4, 8]])"
      ]
     },
     "execution_count": 106,
     "metadata": {},
     "output_type": "execute_result"
    }
   ],
   "source": [
    "np.transpose(N)"
   ]
  },
  {
   "cell_type": "code",
   "execution_count": 108,
   "id": "48decd53",
   "metadata": {},
   "outputs": [
    {
     "data": {
      "text/plain": [
       "array([[1, 5],\n",
       "       [2, 6],\n",
       "       [3, 7],\n",
       "       [4, 8]])"
      ]
     },
     "execution_count": 108,
     "metadata": {},
     "output_type": "execute_result"
    }
   ],
   "source": [
    "N.T"
   ]
  },
  {
   "cell_type": "code",
   "execution_count": 102,
   "id": "f69d784f",
   "metadata": {},
   "outputs": [
    {
     "data": {
      "text/plain": [
       "array([[1, 4, 7],\n",
       "       [2, 5, 8],\n",
       "       [3, 6, 9]])"
      ]
     },
     "execution_count": 102,
     "metadata": {},
     "output_type": "execute_result"
    }
   ],
   "source": [
    "np.transpose(M)"
   ]
  },
  {
   "cell_type": "code",
   "execution_count": 114,
   "id": "9792a6b4",
   "metadata": {
    "scrolled": true
   },
   "outputs": [
    {
     "data": {
      "text/plain": [
       "array([ True,  True,  True])"
      ]
     },
     "execution_count": 114,
     "metadata": {},
     "output_type": "execute_result"
    }
   ],
   "source": [
    "# trage auf der rechten Seite das richtige Ergebnis ein\n",
    "np.dot(np.transpose(M), np.array([-1,1,-0.5])) == np.array([-0.5, -1.0, -1.5])"
   ]
  },
  {
   "cell_type": "markdown",
   "id": "158eba00",
   "metadata": {},
   "source": [
    "Man kann nicht nur eine Matrix mit einem Vektor multiplizieren, sondern auch eine Matrix mit einer Matrix.\n",
    "Berechne das Ergebnis der folgenden Operation:"
   ]
  },
  {
   "cell_type": "code",
   "execution_count": null,
   "id": "8ec4fa5d",
   "metadata": {
    "scrolled": true
   },
   "outputs": [],
   "source": [
    "np.all(np.dot(M, M) == np.array([[0,0,0], [0,0,0], [0,0,0]]))"
   ]
  },
  {
   "cell_type": "code",
   "execution_count": null,
   "id": "1600d0de",
   "metadata": {},
   "outputs": [],
   "source": [
    "np.all(np.dot(M, -M) == np.array([[0,0,0], [0,0,0], [0,0,0]]))"
   ]
  },
  {
   "cell_type": "code",
   "execution_count": null,
   "id": "87c52bf4",
   "metadata": {},
   "outputs": [],
   "source": [
    "np.all(np.dot(-M, -M) == np.array([[0,0,0], [0,0,0], [0,0,0]]))"
   ]
  },
  {
   "cell_type": "code",
   "execution_count": null,
   "id": "dbc6346e",
   "metadata": {},
   "outputs": [],
   "source": [
    "M1 = np.array([[-1, 1], [1, -1]])\n",
    "M2 = np.array([[2, -2], [3, -1]])\n",
    "\n",
    "np.all(np.dot(M1, M2) == np.array([[0,0,0], [0,0,0], [0,0,0]]))\n",
    "np.all(np.dot(M2, M1) == np.array([[0,0,0], [0,0,0], [0,0,0]]))"
   ]
  },
  {
   "cell_type": "markdown",
   "id": "deb60f73",
   "metadata": {},
   "source": [
    "# 2. Matrix-Vektor Multiplikation selbst gemacht\n",
    "\n",
    "Wir haben nun verstanden wie man Matrix-Vektor Multiplikationen in NumPy berechnet.\n",
    "Nun möchten wir einen einfachen (und langsamen) Algorithmus per Hand schreiben.\n",
    "\n",
    "Überprüfe das Ergebnis"
   ]
  },
  {
   "cell_type": "code",
   "execution_count": 117,
   "id": "d746c6b4",
   "metadata": {},
   "outputs": [
    {
     "data": {
      "text/plain": [
       "array([0., 0., 0.])"
      ]
     },
     "execution_count": 117,
     "metadata": {},
     "output_type": "execute_result"
    }
   ],
   "source": [
    "np.zeros(3)"
   ]
  },
  {
   "cell_type": "code",
   "execution_count": 124,
   "id": "44009a15",
   "metadata": {},
   "outputs": [],
   "source": [
    "def mat_vec_mult(M, v):\n",
    "    # Vektor mit Länge 3 mit 0er\n",
    "    out = np.zeros(3)\n",
    "    \n",
    "    for zeile in range(3):\n",
    "        #out[zeile] = M11 * v1 + M12 * v2 + M13 * v3\n",
    "        out[zeile] = M[zeile,0] * v[0] + M[zeile,1] * v[1] + M[zeile,2] * v[2]   \n",
    "                     #M21 * v1 * M22 * v2 + M23 * v3\n",
    "            \n",
    "    return out"
   ]
  },
  {
   "cell_type": "code",
   "execution_count": 134,
   "id": "8598c231",
   "metadata": {},
   "outputs": [],
   "source": [
    "def mat_vec_mult2(M, v):\n",
    "    # Vektor mit Länge 3 mit 0er\n",
    "    out = np.zeros(M.shape[0])\n",
    "    \n",
    "    for zeile in range(M.shape[0]):\n",
    "        #for spalte in range(len(v)):\n",
    "        for spalte in range(M.shape[1]):\n",
    "            out[zeile] = out[zeile] + M[zeile,spalte] * v[spalte]\n",
    "            \n",
    "    return out"
   ]
  },
  {
   "cell_type": "code",
   "execution_count": 137,
   "id": "73b21242",
   "metadata": {},
   "outputs": [
    {
     "data": {
      "text/plain": [
       "99"
      ]
     },
     "execution_count": 137,
     "metadata": {},
     "output_type": "execute_result"
    }
   ],
   "source": [
    "len(mat_vec_mult2(np.random.rand(99, 133), np.random.rand(133)))"
   ]
  },
  {
   "cell_type": "code",
   "execution_count": 146,
   "id": "1613230b",
   "metadata": {},
   "outputs": [
    {
     "data": {
      "text/plain": [
       "3"
      ]
     },
     "execution_count": 146,
     "metadata": {},
     "output_type": "execute_result"
    }
   ],
   "source": [
    "# anzahl der Spalten\n",
    "M.shape[1]"
   ]
  },
  {
   "cell_type": "code",
   "execution_count": 143,
   "id": "13084444",
   "metadata": {
    "scrolled": false
   },
   "outputs": [
    {
     "data": {
      "text/plain": [
       "3"
      ]
     },
     "execution_count": 143,
     "metadata": {},
     "output_type": "execute_result"
    }
   ],
   "source": [
    "# anzahl der Zeilen\n",
    "M.shape[0]"
   ]
  },
  {
   "cell_type": "code",
   "execution_count": 145,
   "id": "6f327f9c",
   "metadata": {},
   "outputs": [
    {
     "data": {
      "text/plain": [
       "(3, 3)"
      ]
     },
     "execution_count": 145,
     "metadata": {},
     "output_type": "execute_result"
    }
   ],
   "source": [
    "M.shape"
   ]
  },
  {
   "cell_type": "code",
   "execution_count": 133,
   "id": "cdfb4bb1",
   "metadata": {},
   "outputs": [
    {
     "data": {
      "text/plain": [
       "array([14., 32., 50.])"
      ]
     },
     "execution_count": 133,
     "metadata": {},
     "output_type": "execute_result"
    }
   ],
   "source": [
    "mat_vec_mult2(M, v)"
   ]
  },
  {
   "cell_type": "code",
   "execution_count": 123,
   "id": "80de04db",
   "metadata": {},
   "outputs": [
    {
     "data": {
      "text/plain": [
       "array([14., 32., 50.])"
      ]
     },
     "execution_count": 123,
     "metadata": {},
     "output_type": "execute_result"
    }
   ],
   "source": [
    "mat_vec_mult(M, v)"
   ]
  },
  {
   "cell_type": "code",
   "execution_count": 121,
   "id": "2954105a",
   "metadata": {},
   "outputs": [
    {
     "data": {
      "text/plain": [
       "array([14, 32, 50])"
      ]
     },
     "execution_count": 121,
     "metadata": {},
     "output_type": "execute_result"
    }
   ],
   "source": [
    "np.matmul(M, v)"
   ]
  },
  {
   "cell_type": "markdown",
   "id": "3ecc23fa",
   "metadata": {},
   "source": [
    "Teste nun mit 10 zufälligen Matrizen und Vektoren, dass der Algorithmus stimmt.\n",
    "Benutze dafür `np.random.rand` und `np.equal` und eine for schleife "
   ]
  },
  {
   "cell_type": "code",
   "execution_count": null,
   "id": "198067d7",
   "metadata": {},
   "outputs": [],
   "source": []
  },
  {
   "cell_type": "markdown",
   "id": "b66bef5e",
   "metadata": {},
   "source": [
    "Anscheinend sind die Algorithmen nicht ganz gleich?\n",
    "Woran liegt das?\n",
    "\n",
    "Benutze statt `np.equal` `np.isclose`. Lies gerne die Dokumentation was diese Funktion macht."
   ]
  },
  {
   "cell_type": "code",
   "execution_count": null,
   "id": "df4b4a74",
   "metadata": {},
   "outputs": [],
   "source": [
    "?np.equal"
   ]
  },
  {
   "cell_type": "code",
   "execution_count": null,
   "id": "0ef5ef30",
   "metadata": {},
   "outputs": [],
   "source": []
  },
  {
   "cell_type": "markdown",
   "id": "53426c32",
   "metadata": {},
   "source": [
    "# 3. Matrix-Matrix Multiplikation\n",
    "\n",
    "Schreibe einen Algorithmus, der Matrizen mit Matrizen multipliziert."
   ]
  },
  {
   "cell_type": "code",
   "execution_count": null,
   "id": "21f5d337",
   "metadata": {},
   "outputs": [],
   "source": [
    "def mat_mat_mult(A, B):\n",
    "    \n",
    "    return 0"
   ]
  },
  {
   "cell_type": "markdown",
   "id": "590e425f",
   "metadata": {},
   "source": [
    "Definiere zwei passende Matrizen `A` und `B`."
   ]
  },
  {
   "cell_type": "code",
   "execution_count": null,
   "id": "d6cc9e2e",
   "metadata": {},
   "outputs": [],
   "source": []
  },
  {
   "cell_type": "code",
   "execution_count": null,
   "id": "a2b57b84",
   "metadata": {},
   "outputs": [],
   "source": []
  },
  {
   "cell_type": "code",
   "execution_count": null,
   "id": "061d802a",
   "metadata": {
    "scrolled": true
   },
   "outputs": [],
   "source": [
    "mat_mat_mult(A, B)"
   ]
  },
  {
   "cell_type": "code",
   "execution_count": null,
   "id": "892a1e35",
   "metadata": {},
   "outputs": [],
   "source": [
    "np.matmul(A, B)"
   ]
  },
  {
   "cell_type": "code",
   "execution_count": null,
   "id": "4477fb52",
   "metadata": {},
   "outputs": [],
   "source": [
    "%timeit mat_mat_mult(A, B)"
   ]
  },
  {
   "cell_type": "code",
   "execution_count": null,
   "id": "178713d9",
   "metadata": {},
   "outputs": [],
   "source": [
    "%timeit np.matmul(A, B)"
   ]
  },
  {
   "cell_type": "markdown",
   "id": "55a563ee",
   "metadata": {},
   "source": [
    "Verbesserung von Linearen Algebra Operationen hat eine sehr lange Geschichte.\n",
    "\n",
    "Zum Vergleich sieht man, dass unsere naive Implementierung sehr langsam ist. \n",
    "\n",
    "Das liegt einerseits an Python selbst, da NumPy effektiv Fortran Routinen aufruft, die deutlich schneller und effizienter sind.\n",
    "Python ist eine sehr langsame Sprache, da sie interpretiert und nicht kompiliert ist.\n",
    "\n",
    "Andererseits optimiert Fortran sehr stark für verschiedene CPU Architekturen und versucht Zugriffe auf Arbeitsspeicher und z.B. Cache Misses zu minimieren."
   ]
  },
  {
   "cell_type": "code",
   "execution_count": null,
   "id": "fdd17357",
   "metadata": {},
   "outputs": [],
   "source": []
  },
  {
   "cell_type": "code",
   "execution_count": null,
   "id": "9fe51ed1",
   "metadata": {},
   "outputs": [],
   "source": []
  },
  {
   "cell_type": "code",
   "execution_count": null,
   "id": "c62aca49",
   "metadata": {},
   "outputs": [],
   "source": []
  },
  {
   "cell_type": "code",
   "execution_count": null,
   "id": "9365bdf9",
   "metadata": {},
   "outputs": [],
   "source": []
  },
  {
   "cell_type": "markdown",
   "id": "49d8e54a",
   "metadata": {},
   "source": [
    "# 4. Mehr Matrixspaß"
   ]
  },
  {
   "cell_type": "code",
   "execution_count": null,
   "id": "96bcd6d3",
   "metadata": {},
   "outputs": [],
   "source": [
    "L1 = np.array([[0, -1],[1, 0]])\n",
    "\n",
    "L2 = np.array([[0, 1],[-1, 0]])"
   ]
  },
  {
   "cell_type": "code",
   "execution_count": null,
   "id": "7037cced",
   "metadata": {
    "scrolled": true
   },
   "outputs": [],
   "source": [
    "# korrigiere die rechte Seite\n",
    "np.all(np.dot(L1, L2) == np.array([[0,0], [0,0]]))"
   ]
  },
  {
   "cell_type": "code",
   "execution_count": null,
   "id": "1a813ada",
   "metadata": {
    "scrolled": true
   },
   "outputs": [],
   "source": [
    "# korrigiere die rechte Seite\n",
    "np.all(np.dot(L1, np.transpose(L1)) == np.array([[0,0],[0,0]]))"
   ]
  },
  {
   "cell_type": "code",
   "execution_count": null,
   "id": "d5a7c08a",
   "metadata": {},
   "outputs": [],
   "source": [
    "# korrigiere die rechte Seite\n",
    "np.all(np.dot(L2, np.transpose(L2)) == np.array([[0,0],[0,0]]))"
   ]
  },
  {
   "cell_type": "markdown",
   "id": "fcf550ad",
   "metadata": {},
   "source": [
    "# 5. Rotationsmatrizen"
   ]
  },
  {
   "cell_type": "markdown",
   "id": "649a0ed3",
   "metadata": {},
   "source": [
    "Mache dich mit dem Konzept von Rotationsmatrizen bekannt: https://de.wikipedia.org/wiki/Drehmatrix\n",
    "\n",
    "Du musst natürlich nicht alles lesen, sondern nur verstehen wie man diese berechnet.\n",
    "\n",
    "Definiere nun eine Funktion, mit der man Rotationsmatrizen für beliebige Winkel berechnet.\n",
    "Multipliziere diese zu verschiedenen Vektoren und visualisiere diese."
   ]
  },
  {
   "cell_type": "code",
   "execution_count": null,
   "id": "5720d6e2",
   "metadata": {},
   "outputs": [],
   "source": [
    "import matplotlib.pyplot as plt"
   ]
  },
  {
   "cell_type": "code",
   "execution_count": null,
   "id": "c5879c89",
   "metadata": {},
   "outputs": [],
   "source": [
    "def rotations_matrix(angle):\n",
    "    return 0"
   ]
  },
  {
   "cell_type": "code",
   "execution_count": null,
   "id": "aed87e19",
   "metadata": {},
   "outputs": [],
   "source": [
    "rotations_matrix(0)"
   ]
  },
  {
   "cell_type": "code",
   "execution_count": null,
   "id": "eee02fc5",
   "metadata": {
    "scrolled": true
   },
   "outputs": [],
   "source": [
    "rotations_matrix(np.pi/2)"
   ]
  },
  {
   "cell_type": "code",
   "execution_count": null,
   "id": "9e17cae4",
   "metadata": {},
   "outputs": [],
   "source": [
    "rotations_matrix(3*np.pi/2)"
   ]
  },
  {
   "cell_type": "code",
   "execution_count": null,
   "id": "c6037a73",
   "metadata": {},
   "outputs": [],
   "source": [
    "rotations_matrix(np.pi)"
   ]
  },
  {
   "cell_type": "code",
   "execution_count": null,
   "id": "f4a29eac",
   "metadata": {},
   "outputs": [],
   "source": [
    "rotations_matrix(np.pi * 2)"
   ]
  },
  {
   "cell_type": "markdown",
   "id": "77af7cf7",
   "metadata": {},
   "source": [
    "Zeige nun folgende Identitäten zuerst progammatisch, danach analytisch!\n",
    "\n",
    "Wieso gilt das? Was ist die qualitative Begründung? Wie ist die mathematische?\n",
    "\n",
    "`np.dot(rotations_matrix(alpha), rotations_matrix(beta)) = rotations_matrix(alpha + beta)`"
   ]
  },
  {
   "cell_type": "markdown",
   "id": "17040ae3",
   "metadata": {},
   "source": [
    "Versuche nun mit `matplotlib` und den Funktionen `plt.axes` und `ax.arrow` Vektoren zu plotten.\n",
    "Damit kannst du das Theorem von oben ebenfalls visualisieren."
   ]
  },
  {
   "cell_type": "code",
   "execution_count": null,
   "id": "9189bf7d",
   "metadata": {},
   "outputs": [],
   "source": [
    "v1 = np.array([1, 0])"
   ]
  },
  {
   "cell_type": "code",
   "execution_count": null,
   "id": "0c826b22",
   "metadata": {},
   "outputs": [],
   "source": [
    "def plot_vectors(vectors):\n",
    "    return\n",
    "    "
   ]
  },
  {
   "cell_type": "code",
   "execution_count": null,
   "id": "b8f34105",
   "metadata": {},
   "outputs": [],
   "source": [
    "plot_vectors([v1, np.dot(rotations_matrix(np.pi/2), v1)])"
   ]
  },
  {
   "cell_type": "code",
   "execution_count": null,
   "id": "759731b6",
   "metadata": {},
   "outputs": [],
   "source": []
  }
 ],
 "metadata": {
  "kernelspec": {
   "display_name": "Python (naka)",
   "language": "python",
   "name": "pytorch_python"
  },
  "language_info": {
   "codemirror_mode": {
    "name": "ipython",
    "version": 3
   },
   "file_extension": ".py",
   "mimetype": "text/x-python",
   "name": "python",
   "nbconvert_exporter": "python",
   "pygments_lexer": "ipython3",
   "version": "3.10.6"
  }
 },
 "nbformat": 4,
 "nbformat_minor": 5
}
