{
 "cells": [
  {
   "cell_type": "code",
   "execution_count": 11,
   "id": "b1e6b6fa",
   "metadata": {},
   "outputs": [],
   "source": [
    "import random"
   ]
  },
  {
   "cell_type": "code",
   "execution_count": 12,
   "id": "fc93cc18",
   "metadata": {},
   "outputs": [],
   "source": [
    "import sys"
   ]
  },
  {
   "cell_type": "code",
   "execution_count": 13,
   "id": "43b441a4",
   "metadata": {},
   "outputs": [],
   "source": [
    "x = [\"Leni\", \"Paul S\", \"Janina\", \"Judith\", \"Pia\", \"Kathrin\", \"Luis\", \"Tom\", \"Matthias\", \"Moritz\", \"Paul M\", \"Jan\", \"Sarah\", \"Amelie\", \"Kim\"]\n"
   ]
  },
  {
   "cell_type": "code",
   "execution_count": null,
   "id": "bf91647e",
   "metadata": {},
   "outputs": [],
   "source": []
  },
  {
   "cell_type": "code",
   "execution_count": 22,
   "id": "d1a2ae1a",
   "metadata": {
    "scrolled": true
   },
   "outputs": [
    {
     "name": "stdout",
     "output_type": "stream",
     "text": [
      "0 Janina\n",
      "1 Luis\n",
      "2 Leni\n",
      "3 Tom\n",
      "4 Sarah\n",
      "5 Kim\n",
      "6 Amelie\n",
      "7 Paul M\n",
      "8 Paul S\n",
      "9 Kathrin\n",
      "10 Matthias\n",
      "11 Moritz\n",
      "12 Judith\n",
      "13 Pia\n",
      "14 Jan\n"
     ]
    }
   ],
   "source": [
    "random.shuffle(x)\n",
    "for (i, name) in enumerate(x):\n",
    "    print(i, name)"
   ]
  },
  {
   "cell_type": "code",
   "execution_count": 19,
   "id": "8e785014",
   "metadata": {},
   "outputs": [],
   "source": [
    "group1 = [\"Jan\", \"Sarah\"]\n",
    "group2 = [\"Paul\", \"Amelie\", \"Luis\"]\n",
    "group3 = [\"Moritz\", \"Pia\"]\n",
    "group4 = [\"Kathrin\", \"P Moritz\"]\n",
    "group5 = [\"Matthias\", \"Kim\", \"Leni\"]\n",
    "group6 = [\"Janina\", \"Judith\", \"Tom\"]\n"
   ]
  },
  {
   "cell_type": "code",
   "execution_count": 24,
   "id": "8720098b",
   "metadata": {},
   "outputs": [
    {
     "data": {
      "text/plain": [
       "4000000000"
      ]
     },
     "execution_count": 24,
     "metadata": {},
     "output_type": "execute_result"
    }
   ],
   "source": [
    "10**9 * 4"
   ]
  },
  {
   "cell_type": "code",
   "execution_count": null,
   "id": "9ac21f29",
   "metadata": {},
   "outputs": [],
   "source": []
  }
 ],
 "metadata": {
  "kernelspec": {
   "display_name": "Python (naka)",
   "language": "python",
   "name": "pytorch_python"
  },
  "language_info": {
   "codemirror_mode": {
    "name": "ipython",
    "version": 3
   },
   "file_extension": ".py",
   "mimetype": "text/x-python",
   "name": "python",
   "nbconvert_exporter": "python",
   "pygments_lexer": "ipython3",
   "version": "3.10.6"
  }
 },
 "nbformat": 4,
 "nbformat_minor": 5
}
