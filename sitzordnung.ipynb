{
 "cells": [
  {
   "cell_type": "code",
   "execution_count": 11,
   "id": "b1e6b6fa",
   "metadata": {},
   "outputs": [],
   "source": [
    "import random"
   ]
  },
  {
   "cell_type": "code",
   "execution_count": 12,
   "id": "fc93cc18",
   "metadata": {},
   "outputs": [],
   "source": [
    "import sys"
   ]
  },
  {
   "cell_type": "code",
   "execution_count": 13,
   "id": "43b441a4",
   "metadata": {},
   "outputs": [],
   "source": [
    "x = [\"Leni\", \"Paul S\", \"Janina\", \"Judith\", \"Pia\", \"Kathrin\", \"Luis\", \"Tom\", \"Matthias\", \"Moritz\", \"Paul M\", \"Jan\", \"Sarah\", \"Amelie\", \"Kim\"]\n"
   ]
  },
  {
   "cell_type": "code",
   "execution_count": null,
   "id": "bf91647e",
   "metadata": {},
   "outputs": [],
   "source": []
  },
  {
   "cell_type": "code",
   "execution_count": 17,
   "id": "d1a2ae1a",
   "metadata": {
    "scrolled": true
   },
   "outputs": [
    {
     "name": "stdout",
     "output_type": "stream",
     "text": [
      "0 Paul S\n",
      "1 Janina\n",
      "2 Tom\n",
      "3 Sarah\n",
      "4 Jan\n",
      "5 Kathrin\n",
      "6 Amelie\n",
      "7 Pia\n",
      "8 Paul M\n",
      "9 Kim\n",
      "10 Matthias\n",
      "11 Judith\n",
      "12 Moritz\n",
      "13 Leni\n",
      "14 Luis\n"
     ]
    }
   ],
   "source": [
    "random.shuffle(x)\n",
    "for (i, name) in enumerate(x):\n",
    "    print(i, name)"
   ]
  },
  {
   "cell_type": "code",
   "execution_count": 18,
   "id": "bdcbd25b",
   "metadata": {},
   "outputs": [],
   "source": [
    "group1 = [\"Jan\", \"Sarah\"]\n",
    "group2 = [\"Paul\", \"Amelie\", \"Luis\"]\n",
    "group3 = [\"Moritz\", \"Pia\"]\n",
    "group4 = [\"Kathrin\", \"P Moritz\"]\n",
    "group5 = [\"Matthias\", \"Kim\", \"Leni\"]\n",
    "group6 = [\"Janina\", \"Judith\", \"Tom\"]\n"
   ]
  },
  {
   "cell_type": "code",
   "execution_count": null,
   "id": "d5e99808",
   "metadata": {},
   "outputs": [],
   "source": []
  }
 ],
 "metadata": {
  "kernelspec": {
   "display_name": "Python (naka)",
   "language": "python",
   "name": "pytorch_python"
  },
  "language_info": {
   "codemirror_mode": {
    "name": "ipython",
    "version": 3
   },
   "file_extension": ".py",
   "mimetype": "text/x-python",
   "name": "python",
   "nbconvert_exporter": "python",
   "pygments_lexer": "ipython3",
   "version": "3.10.6"
  }
 },
 "nbformat": 4,
 "nbformat_minor": 5
}
