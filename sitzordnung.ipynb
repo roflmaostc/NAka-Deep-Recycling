{
 "cells": [
  {
   "cell_type": "code",
   "execution_count": null,
   "id": "b1e6b6fa",
   "metadata": {},
   "outputs": [],
   "source": [
    "import random"
   ]
  },
  {
   "cell_type": "code",
   "execution_count": 11,
   "id": "fc93cc18",
   "metadata": {},
   "outputs": [],
   "source": [
    "import sys"
   ]
  },
  {
   "cell_type": "code",
   "execution_count": 25,
   "id": "43b441a4",
   "metadata": {},
   "outputs": [],
   "source": [
    "x = [\"Leni\", \"Paul S\", \"Janina\", \"Judith\", \"Pia\", \"Kathrin\", \"Luis\", \"Tom\", \"Matthias\", \"Moritz\", \"Paul M\", \"Jan\", \"Sarah\", \"Amelie\", \"Kim\"]\n"
   ]
  },
  {
   "cell_type": "code",
   "execution_count": 29,
   "id": "bf91647e",
   "metadata": {},
   "outputs": [],
   "source": []
  },
  {
   "cell_type": "code",
   "execution_count": 50,
   "id": "d1a2ae1a",
   "metadata": {
    "scrolled": true
   },
   "outputs": [
    {
     "name": "stdout",
     "output_type": "stream",
     "text": [
      "0 Amelie\n",
      "1 Kim\n",
      "2 Paul S\n",
      "3 Luis\n",
      "4 Pia\n",
      "5 Leni\n",
      "6 Jan\n",
      "7 Kathrin\n",
      "8 Matthias\n",
      "9 Sarah\n",
      "10 Paul M\n",
      "11 Janina\n",
      "12 Judith\n",
      "13 Moritz\n",
      "14 Tom\n"
     ]
    }
   ],
   "source": [
    "random.shuffle(x)\n",
    "for (i, name) in enumerate(x):\n",
    "    print(i, name)"
   ]
  }
 ],
 "metadata": {
  "kernelspec": {
   "display_name": "Python (naka)",
   "language": "python",
   "name": "pytorch_python"
  },
  "language_info": {
   "codemirror_mode": {
    "name": "ipython",
    "version": 3
   },
   "file_extension": ".py",
   "mimetype": "text/x-python",
   "name": "python",
   "nbconvert_exporter": "python",
   "pygments_lexer": "ipython3",
   "version": "3.10.6"
  }
 },
 "nbformat": 4,
 "nbformat_minor": 5
}
