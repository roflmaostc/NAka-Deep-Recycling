{
 "cells": [
  {
   "cell_type": "markdown",
   "id": "b25a0efb",
   "metadata": {},
   "source": [
    "# 1. Generelle Python Übungen\n",
    "\n",
    "In diesem Notebook könnt ihr erneut eure generellen Python Kenntnisse auffrischen und üben."
   ]
  },
  {
   "cell_type": "code",
   "execution_count": null,
   "id": "621f22f1",
   "metadata": {},
   "outputs": [],
   "source": [
    "# import der NumPy Library\n",
    "import numpy as np\n",
    "\n",
    "# import der plot library\n",
    "import matplotlib.pyplot as plt"
   ]
  },
  {
   "cell_type": "code",
   "execution_count": null,
   "id": "4ed45ccc",
   "metadata": {},
   "outputs": [],
   "source": [
    "x = 1\n",
    "y = 2"
   ]
  },
  {
   "cell_type": "code",
   "execution_count": 143,
   "id": "a08a38d1",
   "metadata": {},
   "outputs": [],
   "source": [
    "# addiere hier x und y\n"
   ]
  },
  {
   "cell_type": "code",
   "execution_count": null,
   "id": "59cf06c9",
   "metadata": {},
   "outputs": [],
   "source": [
    "a = \"Nachhaltig\"\n",
    "b = \"keit\""
   ]
  },
  {
   "cell_type": "code",
   "execution_count": null,
   "id": "0a859931",
   "metadata": {},
   "outputs": [],
   "source": [
    "# addiere hier a und b, was erwartest du?\n"
   ]
  },
  {
   "cell_type": "code",
   "execution_count": null,
   "id": "be094d86",
   "metadata": {},
   "outputs": [],
   "source": [
    "def f(a,b):\n",
    "    return  a + b"
   ]
  },
  {
   "cell_type": "code",
   "execution_count": null,
   "id": "f4b90f06",
   "metadata": {},
   "outputs": [],
   "source": [
    "# rufe nun die Funktion f mit x und y auf\n"
   ]
  },
  {
   "cell_type": "code",
   "execution_count": null,
   "id": "e607f53b",
   "metadata": {},
   "outputs": [],
   "source": [
    "# rufe nun die Funktion f mit a und b auf\n"
   ]
  },
  {
   "cell_type": "markdown",
   "id": "dd14a3d7",
   "metadata": {},
   "source": [
    "# 2. Listen und Arrays"
   ]
  },
  {
   "cell_type": "code",
   "execution_count": null,
   "id": "f3a62172",
   "metadata": {},
   "outputs": [],
   "source": [
    "l = []\n",
    "l.append(1)\n",
    "l.append(2)\n",
    "\n",
    "l"
   ]
  },
  {
   "cell_type": "code",
   "execution_count": null,
   "id": "0da243df",
   "metadata": {},
   "outputs": [],
   "source": [
    "# dies ist eine Liste von Zahlen\n",
    "l = [1,2,3,4,5,6]"
   ]
  },
  {
   "cell_type": "code",
   "execution_count": null,
   "id": "bcf22bbd",
   "metadata": {},
   "outputs": [],
   "source": [
    "# ein NumPy array\n",
    "array = np.array(l)\n",
    "array"
   ]
  },
  {
   "cell_type": "code",
   "execution_count": null,
   "id": "8c512b77",
   "metadata": {},
   "outputs": [],
   "source": [
    "a = np.array(range(10))\n",
    "a"
   ]
  },
  {
   "cell_type": "code",
   "execution_count": 144,
   "id": "e0944bf3",
   "metadata": {},
   "outputs": [],
   "source": [
    "# erstelle ein Array das die Elemente [2, 4, ..., 20] enthält\n"
   ]
  },
  {
   "cell_type": "code",
   "execution_count": null,
   "id": "155f6fa4",
   "metadata": {},
   "outputs": [],
   "source": [
    "# nur mit * und + operationen\n"
   ]
  },
  {
   "cell_type": "code",
   "execution_count": null,
   "id": "6f261add",
   "metadata": {},
   "outputs": [],
   "source": [
    "# mit range\n"
   ]
  },
  {
   "cell_type": "code",
   "execution_count": null,
   "id": "8d3ffdac",
   "metadata": {},
   "outputs": [],
   "source": [
    "# mit np.linspace\n",
    "# tippe ?np.linspace für Hilfe\n"
   ]
  },
  {
   "cell_type": "markdown",
   "id": "3053f3f1",
   "metadata": {},
   "source": [
    "## 2.1 List Comprehension\n",
    "\n"
   ]
  },
  {
   "cell_type": "code",
   "execution_count": null,
   "id": "fc00902c",
   "metadata": {},
   "outputs": [],
   "source": [
    "# Was macht dieser Ausdruck?\n",
    "[i for i in range(10)]"
   ]
  },
  {
   "cell_type": "code",
   "execution_count": null,
   "id": "5e5133d6",
   "metadata": {},
   "outputs": [],
   "source": [
    "np.array([i for i in range(10)])"
   ]
  },
  {
   "cell_type": "code",
   "execution_count": null,
   "id": "3de0304c",
   "metadata": {},
   "outputs": [],
   "source": [
    "[i for i in range(10) if i > 2]"
   ]
  },
  {
   "cell_type": "code",
   "execution_count": null,
   "id": "1ab7f49c",
   "metadata": {},
   "outputs": [],
   "source": [
    "[i for i in range(10) if i > 2 and i % 2 == 0]"
   ]
  },
  {
   "cell_type": "code",
   "execution_count": null,
   "id": "392a9825",
   "metadata": {},
   "outputs": [],
   "source": [
    "# Versuche nun mit den Hinweisen eine Liste zurückzugeben, die die ersten 50 ungeraden Zahlen enthält\n"
   ]
  },
  {
   "cell_type": "code",
   "execution_count": null,
   "id": "fe6de08f",
   "metadata": {},
   "outputs": [],
   "source": [
    "# Hilfe\n",
    "np.array([[i + j for i in range(3)] for j in range(3)])"
   ]
  },
  {
   "cell_type": "code",
   "execution_count": null,
   "id": "91ea17ed",
   "metadata": {},
   "outputs": [],
   "source": [
    "# Versuche eine Matrix zu bauen, die so aussieht: [[0,1,2],[3,4,5],[6,7,8]]\n"
   ]
  },
  {
   "cell_type": "code",
   "execution_count": null,
   "id": "3e332b83",
   "metadata": {},
   "outputs": [],
   "source": []
  },
  {
   "cell_type": "code",
   "execution_count": null,
   "id": "266c5e00",
   "metadata": {},
   "outputs": [],
   "source": [
    "# Versuche eine Matrix zu bauen, die so aussieht: [[1,4,7],[2,5,8],[3,6,9]]\n"
   ]
  },
  {
   "cell_type": "code",
   "execution_count": null,
   "id": "58bc3d08",
   "metadata": {},
   "outputs": [],
   "source": []
  },
  {
   "cell_type": "markdown",
   "id": "f06903e4",
   "metadata": {},
   "source": [
    "# 3. Zufallszahlen"
   ]
  },
  {
   "cell_type": "code",
   "execution_count": null,
   "id": "a6890060",
   "metadata": {},
   "outputs": [],
   "source": [
    "# Was macht diese Funktion?\n",
    "np.random.randn(2)"
   ]
  },
  {
   "cell_type": "code",
   "execution_count": null,
   "id": "a4787067",
   "metadata": {},
   "outputs": [],
   "source": []
  },
  {
   "cell_type": "code",
   "execution_count": null,
   "id": "54194275",
   "metadata": {},
   "outputs": [],
   "source": [
    "# Erstelle eine Funktion, die ein (3,3) Array zufälligen Zahlen zurückgibt.\n",
    "\n"
   ]
  },
  {
   "cell_type": "code",
   "execution_count": null,
   "id": "5ee189b3",
   "metadata": {},
   "outputs": [],
   "source": []
  },
  {
   "cell_type": "code",
   "execution_count": null,
   "id": "f624ce6b",
   "metadata": {},
   "outputs": [],
   "source": [
    "# Erstellle eine Funktion, die Array mit zufälligen, gleichverteilten Zahlen aus dem Interval [0,1] zurückgibt\n",
    "\n"
   ]
  },
  {
   "cell_type": "code",
   "execution_count": null,
   "id": "98390b57",
   "metadata": {},
   "outputs": [],
   "source": []
  },
  {
   "cell_type": "code",
   "execution_count": null,
   "id": "88a6739c",
   "metadata": {},
   "outputs": [],
   "source": [
    "# Erstelle eine Funktion, die zufällig die Buchstaben \"a\" und \"b\" zurückgibt.\n",
    "# kleiner Tipp mit: [\"a\", \"b\"][1] oder [\"a\", \"b\"][0] greift man auf ein Listen Element zu\n"
   ]
  },
  {
   "cell_type": "code",
   "execution_count": null,
   "id": "f7c60f3e",
   "metadata": {},
   "outputs": [],
   "source": []
  },
  {
   "cell_type": "code",
   "execution_count": null,
   "id": "29632bbc",
   "metadata": {},
   "outputs": [],
   "source": [
    "# Erstelle eine Funktion, die zufällig ein Listenelement aus einer beliebigen Liste zurückgibt\n",
    "def random_pick(names):\n",
    "    return \"blub\"\n"
   ]
  },
  {
   "cell_type": "code",
   "execution_count": null,
   "id": "3c77d3cb",
   "metadata": {},
   "outputs": [],
   "source": [
    "# Schreibe eine Funktion, die eine Liste zufällig durchmischt\n",
    "\n"
   ]
  },
  {
   "cell_type": "code",
   "execution_count": null,
   "id": "5e2e8d04",
   "metadata": {},
   "outputs": [],
   "source": [
    "# Schreibe eine Funktion, die aus einer Liste mit Namen folgenden zufälligen Output erzeugt:\n",
    "# Input: [\"Paul\", \"Pia\", \"Vincent\"]\n",
    "# Output: [(1, \"Paul\"), (0, \"Pia\"), (2, \"Vincent\")]\n",
    "# oder: [(2, \"Paul\"), (0, \"Pia\"), (1, \"Vincent\")]\n",
    "\n",
    "\n",
    "# Benutze dafür z.B. l.append wobei l eine Liste ist. \n",
    "\n",
    "\n"
   ]
  },
  {
   "cell_type": "markdown",
   "id": "078e0ca3",
   "metadata": {},
   "source": [
    "# 4. Funktionen"
   ]
  },
  {
   "cell_type": "code",
   "execution_count": 1,
   "id": "c07c60f6",
   "metadata": {},
   "outputs": [],
   "source": [
    "def f():\n",
    "    if 5 > 3:\n",
    "        return \"hallo\"\n",
    "    else:\n",
    "        \"blub\""
   ]
  },
  {
   "cell_type": "code",
   "execution_count": 2,
   "id": "e9a51cb3",
   "metadata": {},
   "outputs": [
    {
     "data": {
      "text/plain": [
       "'hallo'"
      ]
     },
     "execution_count": 2,
     "metadata": {},
     "output_type": "execute_result"
    }
   ],
   "source": [
    "f()"
   ]
  },
  {
   "cell_type": "code",
   "execution_count": 5,
   "id": "82afa6ed",
   "metadata": {},
   "outputs": [
    {
     "data": {
      "text/plain": [
       "0"
      ]
     },
     "execution_count": 5,
     "metadata": {},
     "output_type": "execute_result"
    }
   ],
   "source": [
    "6 % 3 "
   ]
  },
  {
   "cell_type": "code",
   "execution_count": 14,
   "id": "5aee0fa9",
   "metadata": {},
   "outputs": [],
   "source": [
    "# Schreibe eine Funktion mit folgendem Output:\n",
    "# fizzbuzz(16) == \"1, 2, Fizz, 4, Buzz, Fizz, 7, 8, Fizz, Buzz, 11, Fizz, 13, 14, Fizz Buzz\"\n",
    "# Das heißt die Länge des Outputs hängt von der Zahl ab. Der Output soll entweder ein langer String oder \n",
    "# eine lange Liste sein\n",
    "def fizzbuzz_single_number(n):\n",
    "    if n % 15 == 0:\n",
    "        return \"Fizzbuzz\"\n",
    "    elif n % 5 == 0:\n",
    "        return \"Buzz\"\n",
    "    elif n % 3 == 0:\n",
    "        return \"Fizz\"\n",
    "    else:\n",
    "        return n\n",
    "    "
   ]
  },
  {
   "cell_type": "code",
   "execution_count": 16,
   "id": "93bcb9b6",
   "metadata": {},
   "outputs": [],
   "source": [
    "def fizzbuzz(n):\n",
    "    l = []\n",
    "    \n",
    "    for i in range(1, n):\n",
    "        l.append(fizzbuzz_single_number(i))\n",
    "        \n",
    "    return l"
   ]
  },
  {
   "cell_type": "code",
   "execution_count": 20,
   "id": "fad3eb09",
   "metadata": {},
   "outputs": [
    {
     "data": {
      "text/plain": [
       "[1, 2, 'Fizz', 4, 'Buzz', 'Fizz', 7, 8, 'Fizz', 'Buzz', 11, 'Fizz', 13]"
      ]
     },
     "execution_count": 20,
     "metadata": {},
     "output_type": "execute_result"
    }
   ],
   "source": [
    "fizzbuzz(14)"
   ]
  },
  {
   "cell_type": "code",
   "execution_count": 15,
   "id": "97dcf5a0",
   "metadata": {},
   "outputs": [
    {
     "name": "stdout",
     "output_type": "stream",
     "text": [
      "1\n",
      "2\n",
      "Fizz\n",
      "4\n",
      "Buzz\n",
      "Fizz\n",
      "7\n",
      "8\n",
      "Fizz\n",
      "Buzz\n",
      "11\n",
      "Fizz\n",
      "13\n",
      "14\n",
      "Fizzbuzz\n",
      "16\n",
      "17\n",
      "Fizz\n",
      "19\n"
     ]
    }
   ],
   "source": [
    "for i in range(1, 20):\n",
    "    print(fizzbuzz_single_number(i))"
   ]
  },
  {
   "cell_type": "code",
   "execution_count": 28,
   "id": "c8264268",
   "metadata": {},
   "outputs": [],
   "source": [
    "# Schreibe eine Funktion sum, die alle Listen Elemente addiert\n",
    "# verwende dafür das Konstrukt: for element in liste\n",
    "\n",
    "def sum(x):\n",
    "    ergebnis = 0\n",
    "    \n",
    "    for element in x:\n",
    "        ergebnis = ergebnis + element\n",
    "        \n",
    "    return ergebnis"
   ]
  },
  {
   "cell_type": "code",
   "execution_count": 30,
   "id": "acbcb71b",
   "metadata": {},
   "outputs": [
    {
     "data": {
      "text/plain": [
       "6"
      ]
     },
     "execution_count": 30,
     "metadata": {},
     "output_type": "execute_result"
    }
   ],
   "source": [
    "sum([1,2,3])"
   ]
  },
  {
   "cell_type": "code",
   "execution_count": null,
   "id": "105eba2d",
   "metadata": {},
   "outputs": [],
   "source": []
  },
  {
   "cell_type": "code",
   "execution_count": 31,
   "id": "21e94733",
   "metadata": {},
   "outputs": [],
   "source": [
    "# Schreibe eine Funktion positive, die alle positiven Listen Elemente addiert\n",
    "# verwende dafür das Konstrukt: for element in liste\n",
    "\n",
    "def positive(x):\n",
    "    ergebnis = 0\n",
    "    \n",
    "    for element in x:\n",
    "        if element > 0:\n",
    "            ergebnis = ergebnis + element\n",
    "        \n",
    "    return ergebnis"
   ]
  },
  {
   "cell_type": "code",
   "execution_count": 33,
   "id": "3ca070cb",
   "metadata": {},
   "outputs": [
    {
     "data": {
      "text/plain": [
       "5"
      ]
     },
     "execution_count": 33,
     "metadata": {},
     "output_type": "execute_result"
    }
   ],
   "source": [
    "positive([-1,2,3])"
   ]
  },
  {
   "cell_type": "code",
   "execution_count": null,
   "id": "35f00f00",
   "metadata": {},
   "outputs": [],
   "source": []
  },
  {
   "cell_type": "code",
   "execution_count": 48,
   "id": "ea165bf3",
   "metadata": {},
   "outputs": [],
   "source": [
    "# Schreibe eine Funktion sum, die alle Listen Elemente, die eine bestimmte Boolschen Bedingung erfüllen, addiert\n",
    "# verwende dafür das Konstrukt: for element in liste\n",
    "\n",
    "def sum_condition(x, bool_function):\n",
    "    ergebnis = 0\n",
    "    \n",
    "    for element in x:\n",
    "        # if bool_function(element) == True:\n",
    "        if bool_function(element):\n",
    "            ergebnis = ergebnis + element\n",
    "        \n",
    "    return ergebnis"
   ]
  },
  {
   "cell_type": "code",
   "execution_count": 57,
   "id": "93c50316",
   "metadata": {},
   "outputs": [],
   "source": [
    "def lol():\n",
    "    if True:\n",
    "        print(\"haha\")\n",
    "    else:\n",
    "        print(\"blub\")"
   ]
  },
  {
   "cell_type": "code",
   "execution_count": 58,
   "id": "dc2a16c8",
   "metadata": {},
   "outputs": [
    {
     "name": "stdout",
     "output_type": "stream",
     "text": [
      "haha\n"
     ]
    }
   ],
   "source": [
    "lol()"
   ]
  },
  {
   "cell_type": "code",
   "execution_count": 34,
   "id": "22ded93a",
   "metadata": {},
   "outputs": [],
   "source": [
    "# Das ist äuqivalent zu: lambda x: x > 99\n",
    "def bool_function(x):\n",
    "    if x > 99:\n",
    "        return True\n",
    "    else:\n",
    "        return F-alse"
   ]
  },
  {
   "cell_type": "code",
   "execution_count": 37,
   "id": "6b3a47d2",
   "metadata": {},
   "outputs": [],
   "source": [
    "f = (lambda x: x > 99)"
   ]
  },
  {
   "cell_type": "code",
   "execution_count": 40,
   "id": "138b2d2a",
   "metadata": {},
   "outputs": [
    {
     "data": {
      "text/plain": [
       "True"
      ]
     },
     "execution_count": 40,
     "metadata": {},
     "output_type": "execute_result"
    }
   ],
   "source": [
    "f(100)"
   ]
  },
  {
   "cell_type": "code",
   "execution_count": 47,
   "id": "43fb2576",
   "metadata": {},
   "outputs": [
    {
     "data": {
      "text/plain": [
       "False"
      ]
     },
     "execution_count": 47,
     "metadata": {},
     "output_type": "execute_result"
    }
   ],
   "source": [
    "f(99)"
   ]
  },
  {
   "cell_type": "code",
   "execution_count": 46,
   "id": "d44602bd",
   "metadata": {
    "scrolled": true
   },
   "outputs": [
    {
     "data": {
      "text/plain": [
       "1100"
      ]
     },
     "execution_count": 46,
     "metadata": {},
     "output_type": "execute_result"
    }
   ],
   "source": [
    "sum_condition([1,2,3,4,5,100, 1000], lambda x: x > 99) # der output soll 1100 sein"
   ]
  },
  {
   "cell_type": "code",
   "execution_count": null,
   "id": "49cfe66e",
   "metadata": {},
   "outputs": [],
   "source": [
    "# Schreibe eine Funktion, welche die ersten n Quadratzahlen ausgibt\n",
    "# quadrat(5) = [1, 2, 4, 9, 16]\n",
    "\n",
    "\n",
    "def quadrat(n):\n",
    "    return \"todo\""
   ]
  },
  {
   "cell_type": "code",
   "execution_count": null,
   "id": "3c1abffc",
   "metadata": {},
   "outputs": [],
   "source": []
  },
  {
   "cell_type": "code",
   "execution_count": null,
   "id": "74fd54d2",
   "metadata": {},
   "outputs": [],
   "source": [
    "# Schreibe eine Funktion, welche die ersten n Fibonacci Zahlen ausgibt\n",
    "# fibonacci(7) = [1,1,2,3,5,8,13]\n",
    "\n",
    "\n",
    "def fibonacci(n):\n",
    "    return \"todo\""
   ]
  },
  {
   "cell_type": "code",
   "execution_count": null,
   "id": "555afcce",
   "metadata": {},
   "outputs": [],
   "source": []
  },
  {
   "cell_type": "code",
   "execution_count": null,
   "id": "e68ecbf9",
   "metadata": {},
   "outputs": [],
   "source": [
    "# Schreibe eine Funktion, welche die ersten n Primzahlen Zahlen ausgibt (schwieriger)\n",
    "# primzahlen(7) = [2,3,5,7,11]\n",
    "\n",
    "\n",
    "def primzahlen(n):\n",
    "    return \"todo\""
   ]
  },
  {
   "cell_type": "code",
   "execution_count": null,
   "id": "bc679d78",
   "metadata": {},
   "outputs": [],
   "source": []
  },
  {
   "cell_type": "code",
   "execution_count": null,
   "id": "bb7db72b",
   "metadata": {},
   "outputs": [],
   "source": []
  },
  {
   "cell_type": "markdown",
   "id": "3f9b9a46",
   "metadata": {},
   "source": [
    "# 5. Numpy"
   ]
  },
  {
   "cell_type": "code",
   "execution_count": null,
   "id": "414b9ea3",
   "metadata": {},
   "outputs": [],
   "source": [
    "# Schreibe eine Funktion, die jedes n-te Element zurückt\n",
    "\n",
    "def nth(l, n):\n",
    "    return \"todo\""
   ]
  },
  {
   "cell_type": "code",
   "execution_count": null,
   "id": "276623e7",
   "metadata": {
    "scrolled": true
   },
   "outputs": [],
   "source": [
    "nth([1,2,3,4,5,6], 3) == [1,4]"
   ]
  },
  {
   "cell_type": "code",
   "execution_count": null,
   "id": "a14e17e8",
   "metadata": {},
   "outputs": [],
   "source": []
  },
  {
   "cell_type": "code",
   "execution_count": null,
   "id": "26522279",
   "metadata": {},
   "outputs": [],
   "source": [
    "# Schreibe eine Funktion, die jedes n-te Element zurückt, aber in umgekehrter Reihenfolge\n",
    "\n",
    "def nth_reverse(l, n):\n",
    "    return \"todo\""
   ]
  },
  {
   "cell_type": "code",
   "execution_count": null,
   "id": "93a123f0",
   "metadata": {},
   "outputs": [],
   "source": [
    "nth_reverse([1,2,3,4,5,6], 3) == [4,1]"
   ]
  },
  {
   "cell_type": "code",
   "execution_count": null,
   "id": "de5c11f7",
   "metadata": {},
   "outputs": [],
   "source": []
  },
  {
   "cell_type": "code",
   "execution_count": null,
   "id": "f85be4c3",
   "metadata": {},
   "outputs": [],
   "source": [
    "# Schreibe eine Funktion die folgendes macht:\n",
    "# union(np.array([1,2,3]), np.array([4,5,6])) == np.array([1,2,3,4,5,6])\n",
    "\n",
    "def union(a, b):\n",
    "    return \"todo\""
   ]
  },
  {
   "cell_type": "code",
   "execution_count": null,
   "id": "3c98367b",
   "metadata": {},
   "outputs": [],
   "source": []
  },
  {
   "cell_type": "code",
   "execution_count": null,
   "id": "411442e0",
   "metadata": {},
   "outputs": [],
   "source": [
    "# Definiere eine Funktion, die folgendes macht:\n",
    "# separate(array([[0.37439962, 0.3130642 ],\n",
    "#                 [0.15061138, 0.13846712],\n",
    "#                 [0.99044808, 0.54289507],\n",
    "#                 [0.03670066, 0.21479558],\n",
    "#                 [0.83293058, 0.26468362]]), 3) \n",
    "# Output:\n",
    "# (array([[0.69015301, 0.1991521 ],\n",
    "#         [0.81496534, 0.60210135],\n",
    "#         [0.46524354, 0.78118968]]),\n",
    "#  array([[0.09578038, 0.29824532],\n",
    "#         [0.72648886, 0.49476367]]))\n",
    "\n",
    "\n",
    "def separate(arr, n):\n",
    "    return \"todo\"\n"
   ]
  },
  {
   "cell_type": "code",
   "execution_count": null,
   "id": "3b0abe8a",
   "metadata": {},
   "outputs": [],
   "source": [
    "separate(np.random.rand(5,2), 3)"
   ]
  },
  {
   "cell_type": "code",
   "execution_count": null,
   "id": "227cb99c",
   "metadata": {},
   "outputs": [],
   "source": [
    "# Definiere eine Funktion, die wie separate funktioniert, aber nun die andere Dimension separiert!\n",
    "def separate_2(arr, n):\n",
    "    return \"todo\"\n"
   ]
  },
  {
   "cell_type": "code",
   "execution_count": null,
   "id": "5b8903e4",
   "metadata": {},
   "outputs": [],
   "source": []
  },
  {
   "cell_type": "code",
   "execution_count": null,
   "id": "6c359b34",
   "metadata": {},
   "outputs": [],
   "source": []
  },
  {
   "cell_type": "code",
   "execution_count": null,
   "id": "5a15a3e0",
   "metadata": {},
   "outputs": [],
   "source": [
    "# Schreibe eine Funktion, die an einer Liste von Indices, \n",
    "# eine 1 schreibt. Ansonsten soll das Array nur aus 0en bestehen\n",
    "\n",
    "# fill((3,3), np.array([(1,2), (0,0)])) == np.array([[1,0,0],[0,0,1],[0,0,0]])\n",
    "\n",
    "def fill(sz, ibnds):\n",
    "    return \"todo\""
   ]
  },
  {
   "cell_type": "code",
   "execution_count": null,
   "id": "c1b0a24b",
   "metadata": {},
   "outputs": [],
   "source": []
  },
  {
   "cell_type": "code",
   "execution_count": null,
   "id": "4e563208",
   "metadata": {},
   "outputs": [],
   "source": []
  },
  {
   "cell_type": "markdown",
   "id": "5650c746",
   "metadata": {},
   "source": [
    "# 6. Plotten"
   ]
  },
  {
   "cell_type": "code",
   "execution_count": 145,
   "id": "0b164260",
   "metadata": {},
   "outputs": [],
   "source": [
    "# plotte zwei Perioden von einer Sinus und Cosinus Kurve\n"
   ]
  },
  {
   "cell_type": "code",
   "execution_count": null,
   "id": "6fb0a592",
   "metadata": {},
   "outputs": [],
   "source": [
    "# Versuche 5 Datenpunkte mit Recyclingquote über Jahreszahl zu finden.\n",
    "# Erstelle einen Plot mit Achsenbeschriftung, Titel und Legende"
   ]
  },
  {
   "cell_type": "code",
   "execution_count": null,
   "id": "0a7adca7",
   "metadata": {},
   "outputs": [],
   "source": [
    "plt.plot([1,2,3],[1,2,9])"
   ]
  },
  {
   "cell_type": "code",
   "execution_count": null,
   "id": "5e400a60",
   "metadata": {},
   "outputs": [],
   "source": []
  }
 ],
 "metadata": {
  "kernelspec": {
   "display_name": "Python (naka)",
   "language": "python",
   "name": "pytorch_python"
  },
  "language_info": {
   "codemirror_mode": {
    "name": "ipython",
    "version": 3
   },
   "file_extension": ".py",
   "mimetype": "text/x-python",
   "name": "python",
   "nbconvert_exporter": "python",
   "pygments_lexer": "ipython3",
   "version": "3.10.6"
  }
 },
 "nbformat": 4,
 "nbformat_minor": 5
}
