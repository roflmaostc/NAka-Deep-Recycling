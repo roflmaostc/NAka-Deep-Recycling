{
 "cells": [
  {
   "cell_type": "code",
   "execution_count": 52,
   "id": "d8e6407d",
   "metadata": {},
   "outputs": [],
   "source": [
    "import numpy as np\n",
    "import matplotlib.pyplot as plt"
   ]
  },
  {
   "cell_type": "markdown",
   "id": "a0943872",
   "metadata": {},
   "source": [
    "Wir haben in den Referaten bereits einiges über Optimierung gehört.\n",
    "\n",
    "Nun ist es Zeit für praktische Übungen.\n",
    "Letztendlich ist Machine Learning ein großes Optimierungsproblem wo man z.B. versucht die Parameters des Netzwerks an Trainingsdaten so anzupassen, dass diese einen möglichst optimalen Output erzeugen.\n"
   ]
  },
  {
   "cell_type": "markdown",
   "id": "00b286c8",
   "metadata": {},
   "source": [
    "# 1. Gradient Descent\n",
    "\n",
    "Gradient Descent wird auch der Weg des steilsten Abstieges genannt.\n",
    "Ein (lokales) Minimum lässt sich damit finden, indem man ähnlich wie bei einer Wanderung einfach steil bergab geht.\n",
    "Die Richtung des Abstieges lässt sich mit der/dem Ableitung/Gradient bestimmen.\n",
    "\n",
    "\n",
    "Gradient Descent lässt sich formal schreiben für eine Funktion $f:\\mathbb{R}\\mapsto \\mathbb{R}$:\n",
    "\n",
    "$$ x_{n+1} = x_n - \\gamma \\cdot \\frac{\\mathrm{d}f}{\\mathrm{d}x}\\bigg\\vert_{x_n} = x_n - \\gamma \\cdot f'(x_n)$$\n",
    "\n",
    "In Falle von mehrerer Variablen (z.B. als Vektor gespeichert), gilt für $h:\\mathbb{R}^N\\mapsto \\mathbb{R}^N$\n",
    "\n",
    "$$ \\vec x_{n+1} = \\vec x_n - \\gamma \\cdot (\\nabla h)(\\vec x_n)$$\n",
    "\n",
    "In beiden Fällen ist $\\gamma$ die Schrittweite."
   ]
  },
  {
   "cell_type": "code",
   "execution_count": 47,
   "id": "4643aa08",
   "metadata": {},
   "outputs": [],
   "source": [
    "def foo(x, y, z = 1, a=1, b=1):\n",
    "    return x + y + z + a + b"
   ]
  },
  {
   "cell_type": "code",
   "execution_count": 48,
   "id": "4db69cfb",
   "metadata": {},
   "outputs": [
    {
     "data": {
      "text/plain": [
       "102"
      ]
     },
     "execution_count": 48,
     "metadata": {},
     "output_type": "execute_result"
    }
   ],
   "source": [
    "foo(0,0,0, b=2, a=100)"
   ]
  },
  {
   "cell_type": "code",
   "execution_count": 17,
   "id": "971573ff",
   "metadata": {},
   "outputs": [],
   "source": [
    "# TODO\n",
    "def gradient_descent(df, x0, N, step_size=1e-2):\n",
    "    \"\"\"Returns the optimum value for x\n",
    "\n",
    "    Arguments:\n",
    "    df: A function which evaluates the derivative/gradient of f\n",
    "    x0: Start value\n",
    "    N: number of iterations\n",
    "    step_size: Step size in each iteration\n",
    "    \"\"\"\n",
    "    \n",
    "    # aktuelle Position\n",
    "    x = x0\n",
    "    \n",
    "    l = [x0]\n",
    "\n",
    "    for i in range(N):\n",
    "        # hier gucken rum und finden steilen Abstieg\n",
    "        gradient = df(x)\n",
    "        # hier gehen wir den Schritt\n",
    "        x = x - step_size * gradient\n",
    "        l.append(x)\n",
    "\n",
    "    # gibt das Ergebnis und alle Zwischenwerte zurück\n",
    "    return x, l"
   ]
  },
  {
   "cell_type": "markdown",
   "id": "64ed9e10",
   "metadata": {},
   "source": [
    "## Beispiel 1.1 Gradient Descent\n",
    "Implementiere nun eine Funktion und deren Ableitung. Überprüfe, ob der gradient descent Mechanismus funktioniert.\n",
    "\n",
    "Welche Funktion eignet sich?"
   ]
  },
  {
   "cell_type": "code",
   "execution_count": 49,
   "id": "0389875f",
   "metadata": {},
   "outputs": [],
   "source": [
    "def f(x):\n",
    "    return (x-3)**4\n",
    "    \n",
    "# Ableitung von f\n",
    "def df(x):\n",
    "    return 4 * (x-3)**3 * 1"
   ]
  },
  {
   "cell_type": "code",
   "execution_count": 81,
   "id": "0e512617",
   "metadata": {},
   "outputs": [],
   "source": [
    "x_loesung, small_step = gradient_descent(df, 0, 1000, step_size=0.01)"
   ]
  },
  {
   "cell_type": "code",
   "execution_count": 82,
   "id": "86de71d5",
   "metadata": {},
   "outputs": [],
   "source": [
    "x_loesung, big_step = gradient_descent(df, 0, 1000, step_size=0.05)"
   ]
  },
  {
   "cell_type": "code",
   "execution_count": null,
   "id": "2a5d4b34",
   "metadata": {},
   "outputs": [],
   "source": []
  },
  {
   "cell_type": "code",
   "execution_count": 84,
   "id": "54bee89d",
   "metadata": {
    "scrolled": true
   },
   "outputs": [
    {
     "data": {
      "text/plain": [
       "<matplotlib.legend.Legend at 0x7ff1bc50a380>"
      ]
     },
     "execution_count": 84,
     "metadata": {},
     "output_type": "execute_result"
    },
    {
     "data": {
      "image/png": "[encoded data removed]",
      "text/plain": [
       "<Figure size 432x288 with 1 Axes>"
      ]
     },
     "metadata": {
      "needs_background": "light"
     },
     "output_type": "display_data"
    }
   ],
   "source": [
    "plt.plot(small_step)\n",
    "plt.plot(big_step)\n",
    "plt.legend([\"Small Step\", \"Big Step\"])"
   ]
  },
  {
   "cell_type": "code",
   "execution_count": null,
   "id": "1fb1c920",
   "metadata": {},
   "outputs": [],
   "source": []
  },
  {
   "cell_type": "markdown",
   "id": "3879d182",
   "metadata": {},
   "source": [
    "## Beispiel 1.2 Gradient Descent\n",
    "\n",
    "Implementiere eine Funktion mit mehreren Variablen (z.B. $(x - 21.3) ^2 + (y + 13.1)^4$).\n",
    "\n",
    "Geht die Implementierung von oben nun auch für den mehrdimensionalen Fall?"
   ]
  },
  {
   "cell_type": "code",
   "execution_count": 15,
   "id": "ba00979a",
   "metadata": {},
   "outputs": [],
   "source": [
    "# TODO, Funktion \n",
    "def f_2(x):\n",
    "    # x ist nun ein array, mit mehreren Werten\n",
    "    # x = np.array([0.0, 42.0])\n",
    "    return (x[0]-21.3)**2 + (x[1] + 13.1)**4\n",
    "    \n",
    "# TODO, Ableitung der Funktion\n",
    "def df_2(x):\n",
    "    return np.array([2 * (x[0]-21.3), 4 * (x[1] + 13.1)**(4-1)])"
   ]
  },
  {
   "cell_type": "code",
   "execution_count": 68,
   "id": "63299e9f",
   "metadata": {},
   "outputs": [],
   "source": [
    "x, l = gradient_descent(df_2, np.array([18.0, -10]), 30)"
   ]
  },
  {
   "cell_type": "code",
   "execution_count": 69,
   "id": "22dfd269",
   "metadata": {},
   "outputs": [
    {
     "data": {
      "text/plain": [
       "array([ 19.49990175, -12.49595068])"
      ]
     },
     "execution_count": 69,
     "metadata": {},
     "output_type": "execute_result"
    }
   ],
   "source": [
    "x"
   ]
  },
  {
   "cell_type": "code",
   "execution_count": 71,
   "id": "af84ae06",
   "metadata": {
    "scrolled": true
   },
   "outputs": [
    {
     "data": {
      "text/plain": [
       "[<matplotlib.lines.Line2D at 0x7f9ee9ad88e0>,\n",
       " <matplotlib.lines.Line2D at 0x7f9ee9abb8e0>]"
      ]
     },
     "execution_count": 71,
     "metadata": {},
     "output_type": "execute_result"
    },
    {
     "data": {
      "image/png": "[encoded data removed]",
      "text/plain": [
       "<Figure size 432x288 with 1 Axes>"
      ]
     },
     "metadata": {
      "needs_background": "light"
     },
     "output_type": "display_data"
    }
   ],
   "source": [
    "plt.plot(l)"
   ]
  },
  {
   "cell_type": "code",
   "execution_count": 73,
   "id": "eb6902f8",
   "metadata": {
    "scrolled": true
   },
   "outputs": [],
   "source": [
    "# slicing\n",
    "l_as_array = np.array(l)"
   ]
  },
  {
   "cell_type": "code",
   "execution_count": 81,
   "id": "57e5d2ba",
   "metadata": {},
   "outputs": [
    {
     "data": {
      "text/plain": [
       "array([[ 18.        , -10.        ],\n",
       "       [ 18.066     , -11.19164   ],\n",
       "       [ 18.13068   , -11.46963751],\n",
       "       [ 18.1940664 , -11.64298299],\n",
       "       [ 18.25618507, -11.76670696],\n",
       "       [ 18.31706137, -11.86151318],\n",
       "       [ 18.37672014, -11.93749928],\n",
       "       [ 18.43518574, -12.00033979],\n",
       "       [ 18.49248203, -12.05353047],\n",
       "       [ 18.54863238, -12.09936995],\n",
       "       [ 18.60365974, -12.13944561],\n",
       "       [ 18.65758654, -12.17489639],\n",
       "       [ 18.71043481, -12.20656516],\n",
       "       [ 18.76222612, -12.23509167],\n",
       "       [ 18.81298159, -12.26097202],\n",
       "       [ 18.86272196, -12.28459798],\n",
       "       [ 18.91146752, -12.30628377],\n",
       "       [ 18.95923817, -12.32628496],\n",
       "       [ 19.00605341, -12.34481187],\n",
       "       [ 19.05193234, -12.3620395 ],\n",
       "       [ 19.09689369, -12.37811481],\n",
       "       [ 19.14095582, -12.39316231],\n",
       "       [ 19.1841367 , -12.40728831],\n",
       "       [ 19.22645397, -12.4205842 ],\n",
       "       [ 19.26792489, -12.43312909],\n",
       "       [ 19.30856639, -12.44499184],\n",
       "       [ 19.34839506, -12.45623272],\n",
       "       [ 19.38742716, -12.46690474],\n",
       "       [ 19.42567862, -12.47705476],\n",
       "       [ 19.46316505, -12.48672439],\n",
       "       [ 19.49990175, -12.49595068]])"
      ]
     },
     "execution_count": 81,
     "metadata": {},
     "output_type": "execute_result"
    }
   ],
   "source": [
    "l_as_array"
   ]
  },
  {
   "cell_type": "code",
   "execution_count": 82,
   "id": "4652b204",
   "metadata": {
    "scrolled": false
   },
   "outputs": [
    {
     "data": {
      "text/plain": [
       "array([-10.        , -11.19164   , -11.46963751, -11.64298299,\n",
       "       -11.76670696, -11.86151318, -11.93749928, -12.00033979,\n",
       "       -12.05353047, -12.09936995, -12.13944561, -12.17489639,\n",
       "       -12.20656516, -12.23509167, -12.26097202, -12.28459798,\n",
       "       -12.30628377, -12.32628496, -12.34481187, -12.3620395 ,\n",
       "       -12.37811481, -12.39316231, -12.40728831, -12.4205842 ,\n",
       "       -12.43312909, -12.44499184, -12.45623272, -12.46690474,\n",
       "       -12.47705476, -12.48672439, -12.49595068])"
      ]
     },
     "execution_count": 82,
     "metadata": {},
     "output_type": "execute_result"
    }
   ],
   "source": [
    "l_as_array[:, 1]"
   ]
  },
  {
   "cell_type": "code",
   "execution_count": 76,
   "id": "f9927055",
   "metadata": {
    "scrolled": false
   },
   "outputs": [
    {
     "data": {
      "text/plain": [
       "[<matplotlib.lines.Line2D at 0x7f9ee81ab940>]"
      ]
     },
     "execution_count": 76,
     "metadata": {},
     "output_type": "execute_result"
    },
    {
     "data": {
      "image/png": "[encoded data removed]",
      "text/plain": [
       "<Figure size 432x288 with 1 Axes>"
      ]
     },
     "metadata": {
      "needs_background": "light"
     },
     "output_type": "display_data"
    }
   ],
   "source": [
    "plt.plot(l_as_array[0])"
   ]
  },
  {
   "cell_type": "code",
   "execution_count": null,
   "id": "73f3c780",
   "metadata": {},
   "outputs": [],
   "source": []
  },
  {
   "cell_type": "markdown",
   "id": "dc4a1ba7",
   "metadata": {},
   "source": [
    "## Beispiel 1.3\n",
    "\n",
    "Implementiere eine gradient descent Funktion, welche sowohl den Funktionswert, als auch $x_n$ in jeder Iteration speichert.\n",
    "Nutze dafür ein array oder eine Liste."
   ]
  },
  {
   "cell_type": "code",
   "execution_count": 86,
   "id": "e22b9c45",
   "metadata": {},
   "outputs": [],
   "source": [
    "# TODO\n",
    "def gradient_descent_track(f, df, x0, N, step_size=1e-2):\n",
    "    \"\"\"Returns the optimum value for x\n",
    "\n",
    "    Arguments:\n",
    "    df: A function which evaluates the derivative/gradient of f\n",
    "    x0: Start value\n",
    "    N: number of iterations\n",
    "    step_size: Step size in each iteration\n",
    "    \"\"\"\n",
    "    \n",
    "    # aktuelle Position\n",
    "    x = x0\n",
    "    \n",
    "    l = [x0]\n",
    "    lf = [f(x0)]\n",
    "\n",
    "\n",
    "    for i in range(N):\n",
    "        # hier gucken rum und finden steilen Abstieg\n",
    "        gradient = df(x)\n",
    "        # hier gehen wir den Schritt\n",
    "        x = x - step_size * gradient\n",
    "        l.append(x)\n",
    "        lf.append(f(x))\n",
    "\n",
    "\n",
    "    # gibt das Ergebnis und alle Zwischenwerte zurück\n",
    "    return x, l, lf"
   ]
  },
  {
   "cell_type": "code",
   "execution_count": 114,
   "id": "40104045",
   "metadata": {
    "scrolled": true
   },
   "outputs": [],
   "source": [
    "x0, log, log_f = gradient_descent_track(f_2, df_2, np.array([0.0, -11.0]), 300)"
   ]
  },
  {
   "cell_type": "code",
   "execution_count": 115,
   "id": "1c8aa329",
   "metadata": {},
   "outputs": [
    {
     "data": {
      "text/plain": [
       "[<matplotlib.lines.Line2D at 0x7f9ee3f0c430>,\n",
       " <matplotlib.lines.Line2D at 0x7f9ee359f880>]"
      ]
     },
     "execution_count": 115,
     "metadata": {},
     "output_type": "execute_result"
    },
    {
     "data": {
      "image/png": "[encoded data removed]",
      "text/plain": [
       "<Figure size 432x288 with 1 Axes>"
      ]
     },
     "metadata": {
      "needs_background": "light"
     },
     "output_type": "display_data"
    }
   ],
   "source": [
    "plt.plot(log)"
   ]
  },
  {
   "cell_type": "code",
   "execution_count": 116,
   "id": "bad756b0",
   "metadata": {},
   "outputs": [
    {
     "data": {
      "text/plain": [
       "[<matplotlib.lines.Line2D at 0x7f9ee36d4190>]"
      ]
     },
     "execution_count": 116,
     "metadata": {},
     "output_type": "execute_result"
    },
    {
     "data": {
      "image/png": "[encoded data removed]",
      "text/plain": [
       "<Figure size 432x288 with 1 Axes>"
      ]
     },
     "metadata": {
      "needs_background": "light"
     },
     "output_type": "display_data"
    }
   ],
   "source": [
    "plt.plot(log_f)"
   ]
  },
  {
   "cell_type": "code",
   "execution_count": 117,
   "id": "eab944a5",
   "metadata": {},
   "outputs": [
    {
     "data": {
      "text/plain": [
       "9.999999999999858e-05"
      ]
     },
     "execution_count": 117,
     "metadata": {},
     "output_type": "execute_result"
    }
   ],
   "source": [
    "f_2(np.array([21.3, -13]))"
   ]
  },
  {
   "cell_type": "code",
   "execution_count": null,
   "id": "38ad2fe0",
   "metadata": {},
   "outputs": [],
   "source": []
  },
  {
   "cell_type": "markdown",
   "id": "dcf79fdf",
   "metadata": {},
   "source": [
    "## Beispiel 1.4\n",
    "\n",
    "Plotte den Funktionswert von `f_2` über die Anzahl der Iterationen.\n",
    "Plotte in ein neues Fenster die Werte der Variablen über die Anzahl der Iterationen."
   ]
  },
  {
   "cell_type": "code",
   "execution_count": null,
   "id": "773eedfa",
   "metadata": {
    "scrolled": true
   },
   "outputs": [],
   "source": [
    "+"
   ]
  },
  {
   "cell_type": "code",
   "execution_count": null,
   "id": "f9db4793",
   "metadata": {},
   "outputs": [],
   "source": []
  },
  {
   "cell_type": "code",
   "execution_count": null,
   "id": "99c6102c",
   "metadata": {
    "scrolled": false
   },
   "outputs": [],
   "source": []
  },
  {
   "cell_type": "code",
   "execution_count": null,
   "id": "3b978f29",
   "metadata": {},
   "outputs": [],
   "source": []
  },
  {
   "cell_type": "markdown",
   "id": "69598f8a",
   "metadata": {},
   "source": [
    "# 2. Automatic Differentation\n",
    "\n",
    "Bisher war es recht mühsam, da wir die Ableitung per Hand ausgerechnet haben.\n",
    "Zum Glück müssen wir das bei unseren Neuronalen Netzen nicht machen, da PyTorch Mechanismen hierfür eingebaut hat (Automatic Differentation).\n",
    "\n",
    "Wir wollen nun komplexere Funktionen optimieren, ohne den Gradient per Hand zu berechnen."
   ]
  },
  {
   "cell_type": "code",
   "execution_count": 118,
   "id": "033468bb",
   "metadata": {},
   "outputs": [],
   "source": [
    "import torch"
   ]
  },
  {
   "cell_type": "code",
   "execution_count": 119,
   "id": "cea17c15",
   "metadata": {},
   "outputs": [],
   "source": [
    "# Gegeben ist folgende Funktion g\n",
    "def g_torch(x):\n",
    "    return (x[0]-1)**2  + (torch.sqrt(x[1]) - torch.log(x[2]))**2 + x[1]**2 + (torch.log(x[1]) - 2)**2"
   ]
  },
  {
   "cell_type": "code",
   "execution_count": 221,
   "id": "b19fcbed",
   "metadata": {},
   "outputs": [],
   "source": [
    "def gradient_descent_track_ad(f, x0, N, step_size=1e-2):\n",
    "    # TODO\n",
    "    # hier fehlen ein paar Variablen\n",
    "    log = [x0.detach().numpy()]\n",
    "    log_f = [f(x0).detach().numpy()]\n",
    "    \n",
    "    x = x0\n",
    "    \n",
    "    for i in range(N):\n",
    "        \n",
    "        funktionauswertung = f(x)\n",
    "        \n",
    "        # damit wird der gradient berechnet\n",
    "        funktionauswertung.backward()\n",
    "        # das ist ein tensor, der die Ableitungen speichert\n",
    "        df = x.grad\n",
    "        # spezielles construct\n",
    "        with torch.no_grad():\n",
    "            # step update\n",
    "            x = x - step_size * df\n",
    "            \n",
    "            # spezielles construct \n",
    "            x = torch.tensor(x, requires_grad=True)\n",
    "            \n",
    "            # speichere hier noch die variablen\n",
    "            log.append(x.detach().numpy())\n",
    "            log_f.append(f(x).detach().numpy())\n",
    "            \n",
    "    return x0, log, log_f"
   ]
  },
  {
   "cell_type": "code",
   "execution_count": 223,
   "id": "bae8fc09",
   "metadata": {},
   "outputs": [
    {
     "name": "stderr",
     "output_type": "stream",
     "text": [
      "/tmp/ipykernel_166185/2080766475.py:23: UserWarning: To copy construct from a tensor, it is recommended to use sourceTensor.clone().detach() or sourceTensor.clone().detach().requires_grad_(True), rather than torch.tensor(sourceTensor).\n",
      "  x = torch.tensor(x, requires_grad=True)\n"
     ]
    }
   ],
   "source": [
    "t_x, t_log, t_log_f = gradient_descent_track_ad(f_2, torch.tensor([0.0, -12.0], requires_grad=True), \n",
    "                                                100, \n",
    "                                                step_size=0.1)"
   ]
  },
  {
   "cell_type": "code",
   "execution_count": 224,
   "id": "5a063e3a",
   "metadata": {},
   "outputs": [
    {
     "name": "stderr",
     "output_type": "stream",
     "text": [
      "/tmp/ipykernel_166185/2080766475.py:23: UserWarning: To copy construct from a tensor, it is recommended to use sourceTensor.clone().detach() or sourceTensor.clone().detach().requires_grad_(True), rather than torch.tensor(sourceTensor).\n",
      "  x = torch.tensor(x, requires_grad=True)\n"
     ]
    }
   ],
   "source": [
    "t_x, t_log, t_log_f = gradient_descent_track_ad(g_torch, torch.tensor([0.0, 1.0, 1.0], requires_grad=True), \n",
    "                                                1000, \n",
    "                                                step_size=0.1)"
   ]
  },
  {
   "cell_type": "code",
   "execution_count": 225,
   "id": "9626aad6",
   "metadata": {
    "scrolled": false
   },
   "outputs": [
    {
     "data": {
      "text/plain": [
       "[<matplotlib.lines.Line2D at 0x7f9ed9e52740>,\n",
       " <matplotlib.lines.Line2D at 0x7f9ed9d0cee0>,\n",
       " <matplotlib.lines.Line2D at 0x7f9eda1f4f40>]"
      ]
     },
     "execution_count": 225,
     "metadata": {},
     "output_type": "execute_result"
    },
    {
     "data": {
      "image/png": "[encoded data removed]",
      "text/plain": [
       "<Figure size 432x288 with 1 Axes>"
      ]
     },
     "metadata": {
      "needs_background": "light"
     },
     "output_type": "display_data"
    }
   ],
   "source": [
    "plt.plot(t_log)"
   ]
  },
  {
   "cell_type": "markdown",
   "id": "10fab8ea",
   "metadata": {},
   "source": [
    "# 3. Optimierer von PyTorch\n",
    "\n",
    "PyTorch stellt eine ganze Reihe von verschiedenen Optimierern zur Verfügung.\n",
    "`ADAM` wird relativ häufig benutzt.\n",
    "\n",
    "Teste nun verschiedene Arten von Optimierern. Versuche auch eine graphische Darstellung zu machen, in denen du verschiedene Optimierer miteinander hinsichtlich Konvergenz und Startbedingungen vergleichst."
   ]
  },
  {
   "cell_type": "code",
   "execution_count": 236,
   "id": "f9377d5d",
   "metadata": {},
   "outputs": [],
   "source": [
    "# orientiere dich an der vorherigen Funktion gradient_descent_track_ad\n",
    "# Im Prinzip müssen nur wenige Teile geändert werden\n",
    "def ADAM_optimize(f, x0, N, step_size=1e-2):\n",
    "    \n",
    "    # hier fehlen ein paar Variablen\n",
    "    log = [x0.detach().numpy()]\n",
    "    log_f = [f(x0).detach().numpy()]\n",
    "    \n",
    "    x = x0\n",
    "    \n",
    "    optimizer = torch.optim.Adam([x], lr=0.1) # initialisiere hier den optimizer\n",
    "    for i in range(N):\n",
    "        optimizer.zero_grad()\n",
    "        l = f(x)\n",
    "        l.backward()\n",
    "        optimizer.step()\n",
    "        \n",
    "        with torch.no_grad():\n",
    "            log.append(np.copy(x.numpy()))\n",
    "            log_f.append(l)   \n",
    "      \n",
    "            \n",
    "    return x, log, log_f"
   ]
  },
  {
   "cell_type": "code",
   "execution_count": 237,
   "id": "6e74664e",
   "metadata": {},
   "outputs": [],
   "source": [
    "t_x, t_log, t_log_f = ADAM_optimize(f_2, torch.tensor([10.0, -10.0], requires_grad=True), 500)"
   ]
  },
  {
   "cell_type": "code",
   "execution_count": 238,
   "id": "270bfae7",
   "metadata": {},
   "outputs": [
    {
     "data": {
      "text/plain": [
       "[array([ 21.299994, -12.909667], dtype=float32),\n",
       " array([ 10.1, -10.1], dtype=float32),\n",
       " array([ 10.199976, -10.199624], dtype=float32),\n",
       " array([ 10.2999115, -10.298606 ], dtype=float32),\n",
       " array([ 10.39979 , -10.396673], dtype=float32),\n",
       " array([ 10.499595, -10.493554], dtype=float32),\n",
       " array([ 10.599309, -10.588978], dtype=float32),\n",
       " array([ 10.698917, -10.682684], dtype=float32),\n",
       " array([ 10.798402, -10.774425], dtype=float32),\n",
       " array([ 10.897747, -10.863971], dtype=float32),\n",
       " array([ 10.996936, -10.951114], dtype=float32),\n",
       " array([ 11.095951, -11.03567 ], dtype=float32),\n",
       " array([ 11.1947775, -11.117485 ], dtype=float32),\n",
       " array([ 11.2934  , -11.196429], dtype=float32),\n",
       " array([ 11.391801, -11.272403], dtype=float32),\n",
       " array([ 11.489966, -11.345335], dtype=float32),\n",
       " array([ 11.58788 , -11.415182], dtype=float32),\n",
       " array([ 11.685528, -11.481924], dtype=float32),\n",
       " array([ 11.782894, -11.545566], dtype=float32),\n",
       " array([ 11.879966, -11.606132], dtype=float32),\n",
       " array([ 11.9767275, -11.663667 ], dtype=float32),\n",
       " array([ 12.073167, -11.71823 ], dtype=float32),\n",
       " array([ 12.16927 , -11.769895], dtype=float32),\n",
       " array([ 12.265023, -11.818746], dtype=float32),\n",
       " array([ 12.360415, -11.864876], dtype=float32),\n",
       " array([ 12.455435, -11.908384], dtype=float32),\n",
       " array([ 12.550069, -11.949377], dtype=float32),\n",
       " array([ 12.644306, -11.987963], dtype=float32),\n",
       " array([ 12.738136, -12.024251], dtype=float32),\n",
       " array([ 12.831548, -12.058352], dtype=float32),\n",
       " array([ 12.924531, -12.090378], dtype=float32),\n",
       " array([ 13.0170765, -12.120436 ], dtype=float32),\n",
       " array([ 13.109175, -12.148634], dtype=float32),\n",
       " array([ 13.200817 , -12.1750765], dtype=float32),\n",
       " array([ 13.291995, -12.199865], dtype=float32),\n",
       " array([ 13.3827  , -12.223098], dtype=float32),\n",
       " array([ 13.472923, -12.244868], dtype=float32),\n",
       " array([ 13.562658, -12.265267], dtype=float32),\n",
       " array([ 13.651897, -12.284382], dtype=float32),\n",
       " array([ 13.740634, -12.302293], dtype=float32),\n",
       " array([ 13.828861, -12.319079], dtype=float32),\n",
       " array([ 13.916574, -12.334815], dtype=float32),\n",
       " array([ 14.003764, -12.34957 ], dtype=float32),\n",
       " array([ 14.090427, -12.363411], dtype=float32),\n",
       " array([ 14.1765585, -12.376399 ], dtype=float32),\n",
       " array([ 14.262152, -12.388594], dtype=float32),\n",
       " array([ 14.347202, -12.400049], dtype=float32),\n",
       " array([ 14.431705, -12.410817], dtype=float32),\n",
       " array([ 14.515656, -12.420946], dtype=float32),\n",
       " array([ 14.599051, -12.430482], dtype=float32),\n",
       " array([ 14.681887, -12.439466], dtype=float32),\n",
       " array([ 14.764158, -12.447939], dtype=float32),\n",
       " array([ 14.845862, -12.455936], dtype=float32),\n",
       " array([ 14.926995, -12.463492], dtype=float32),\n",
       " array([ 15.007554, -12.47064 ], dtype=float32),\n",
       " array([ 15.087536, -12.477408], dtype=float32),\n",
       " array([ 15.166938, -12.483825], dtype=float32),\n",
       " array([ 15.245757, -12.489915], dtype=float32),\n",
       " array([ 15.323992, -12.495703], dtype=float32),\n",
       " array([ 15.401639, -12.50121 ], dtype=float32),\n",
       " array([ 15.478697, -12.506458], dtype=float32),\n",
       " array([ 15.555162, -12.511465], dtype=float32),\n",
       " array([ 15.631034, -12.516249], dtype=float32),\n",
       " array([ 15.70631 , -12.520825], dtype=float32),\n",
       " array([ 15.780989, -12.52521 ], dtype=float32),\n",
       " array([ 15.855068, -12.529417], dtype=float32),\n",
       " array([ 15.928548, -12.533459], dtype=float32),\n",
       " array([ 16.001427, -12.537348], dtype=float32),\n",
       " array([ 16.073702, -12.541094], dtype=float32),\n",
       " array([ 16.145372, -12.544708], dtype=float32),\n",
       " array([ 16.216438, -12.5482  ], dtype=float32),\n",
       " array([ 16.2869  , -12.551578], dtype=float32),\n",
       " array([ 16.356752, -12.55485 ], dtype=float32),\n",
       " array([ 16.425999 , -12.5580225], dtype=float32),\n",
       " array([ 16.494637, -12.561104], dtype=float32),\n",
       " array([ 16.562666, -12.564099], dtype=float32),\n",
       " array([ 16.630087, -12.567016], dtype=float32),\n",
       " array([ 16.6969  , -12.569858], dtype=float32),\n",
       " array([ 16.763103, -12.57263 ], dtype=float32),\n",
       " array([ 16.828697, -12.575337], dtype=float32),\n",
       " array([ 16.893682, -12.577984], dtype=float32),\n",
       " array([ 16.958057, -12.580573], dtype=float32),\n",
       " array([ 17.021824, -12.583109], dtype=float32),\n",
       " array([ 17.084982, -12.585595], dtype=float32),\n",
       " array([ 17.14753 , -12.588034], dtype=float32),\n",
       " array([ 17.20947 , -12.590428], dtype=float32),\n",
       " array([ 17.270803, -12.592781], dtype=float32),\n",
       " array([ 17.33153 , -12.595095], dtype=float32),\n",
       " array([ 17.39165 , -12.597371], dtype=float32),\n",
       " array([ 17.451162, -12.599612], dtype=float32),\n",
       " array([ 17.51007, -12.60182], dtype=float32),\n",
       " array([ 17.568377, -12.603996], dtype=float32),\n",
       " array([ 17.62608 , -12.606142], dtype=float32),\n",
       " array([ 17.68318 , -12.608259], dtype=float32),\n",
       " array([ 17.73968, -12.61035], dtype=float32),\n",
       " array([ 17.79558 , -12.612413], dtype=float32),\n",
       " array([ 17.850882, -12.614452], dtype=float32),\n",
       " array([ 17.905586, -12.616467], dtype=float32),\n",
       " array([ 17.959696, -12.61846 ], dtype=float32),\n",
       " array([ 18.013212, -12.62043 ], dtype=float32),\n",
       " array([ 18.066137, -12.622379], dtype=float32),\n",
       " array([ 18.118471, -12.624308], dtype=float32),\n",
       " array([ 18.170216, -12.626217], dtype=float32),\n",
       " array([ 18.221375, -12.628107], dtype=float32),\n",
       " array([ 18.271948, -12.629978], dtype=float32),\n",
       " array([ 18.321938, -12.631832], dtype=float32),\n",
       " array([ 18.371347, -12.633669], dtype=float32),\n",
       " array([ 18.420177 , -12.6354885], dtype=float32),\n",
       " array([ 18.468431, -12.637292], dtype=float32),\n",
       " array([ 18.516111, -12.639079], dtype=float32),\n",
       " array([ 18.56322 , -12.640851], dtype=float32),\n",
       " array([ 18.609756, -12.642608], dtype=float32),\n",
       " array([ 18.655727, -12.644349], dtype=float32),\n",
       " array([ 18.701134, -12.646076], dtype=float32),\n",
       " array([ 18.745977, -12.647789], dtype=float32),\n",
       " array([ 18.790262 , -12.6494875], dtype=float32),\n",
       " array([ 18.83399 , -12.651173], dtype=float32),\n",
       " array([ 18.877165, -12.652844], dtype=float32),\n",
       " array([ 18.919788, -12.654503], dtype=float32),\n",
       " array([ 18.961863, -12.656149], dtype=float32),\n",
       " array([ 19.003391, -12.657783], dtype=float32),\n",
       " array([ 19.044378, -12.659403], dtype=float32),\n",
       " array([ 19.084827, -12.661012], dtype=float32),\n",
       " array([ 19.12474 , -12.662608], dtype=float32),\n",
       " array([ 19.16412 , -12.664192], dtype=float32),\n",
       " array([ 19.20297 , -12.665765], dtype=float32),\n",
       " array([ 19.241295, -12.667326], dtype=float32),\n",
       " array([ 19.279095, -12.668876], dtype=float32),\n",
       " array([ 19.316376, -12.670414], dtype=float32),\n",
       " array([ 19.35314 , -12.671941], dtype=float32),\n",
       " array([ 19.389393, -12.673457], dtype=float32),\n",
       " array([ 19.425137, -12.674962], dtype=float32),\n",
       " array([ 19.460375, -12.676456], dtype=float32),\n",
       " array([ 19.495111, -12.67794 ], dtype=float32),\n",
       " array([ 19.529348, -12.679414], dtype=float32),\n",
       " array([ 19.563091, -12.680877], dtype=float32),\n",
       " array([ 19.596344, -12.682329], dtype=float32),\n",
       " array([ 19.62911 , -12.683771], dtype=float32),\n",
       " array([ 19.661392, -12.685204], dtype=float32),\n",
       " array([ 19.693195 , -12.6866255], dtype=float32),\n",
       " array([ 19.724524, -12.688038], dtype=float32),\n",
       " array([ 19.75538 , -12.689441], dtype=float32),\n",
       " array([ 19.78577 , -12.690834], dtype=float32),\n",
       " array([ 19.815697, -12.692218], dtype=float32),\n",
       " array([ 19.845163, -12.693592], dtype=float32),\n",
       " array([ 19.874174, -12.694957], dtype=float32),\n",
       " array([ 19.902733, -12.696312], dtype=float32),\n",
       " array([ 19.930845, -12.697658], dtype=float32),\n",
       " array([ 19.958515, -12.698995], dtype=float32),\n",
       " array([ 19.985746, -12.700322], dtype=float32),\n",
       " array([ 20.012543, -12.701641], dtype=float32),\n",
       " array([ 20.038908, -12.702951], dtype=float32),\n",
       " array([ 20.064848, -12.704252], dtype=float32),\n",
       " array([ 20.090364, -12.705544], dtype=float32),\n",
       " array([ 20.115463, -12.706828], dtype=float32),\n",
       " array([ 20.140148, -12.708103], dtype=float32),\n",
       " array([ 20.164425, -12.70937 ], dtype=float32),\n",
       " array([ 20.188295 , -12.7106285], dtype=float32),\n",
       " array([ 20.211765, -12.711879], dtype=float32),\n",
       " array([ 20.23484, -12.71312], dtype=float32),\n",
       " array([ 20.257523 , -12.7143545], dtype=float32),\n",
       " array([ 20.279818, -12.71558 ], dtype=float32),\n",
       " array([ 20.30173 , -12.716798], dtype=float32),\n",
       " array([ 20.323261, -12.718008], dtype=float32),\n",
       " array([ 20.344418, -12.71921 ], dtype=float32),\n",
       " array([ 20.365204, -12.720404], dtype=float32),\n",
       " array([ 20.385624, -12.72159 ], dtype=float32),\n",
       " array([ 20.405684, -12.722769], dtype=float32),\n",
       " array([ 20.425385, -12.72394 ], dtype=float32),\n",
       " array([ 20.444733, -12.725103], dtype=float32),\n",
       " array([ 20.463732, -12.726259], dtype=float32),\n",
       " array([ 20.482386, -12.727408], dtype=float32),\n",
       " array([ 20.5007 , -12.72855], dtype=float32),\n",
       " array([ 20.518679, -12.729684], dtype=float32),\n",
       " array([ 20.536325, -12.730811], dtype=float32),\n",
       " array([ 20.553646, -12.731931], dtype=float32),\n",
       " array([ 20.570642, -12.733044], dtype=float32),\n",
       " array([ 20.58732, -12.73415], dtype=float32),\n",
       " array([ 20.603683, -12.735249], dtype=float32),\n",
       " array([ 20.619736 , -12.7363405], dtype=float32),\n",
       " array([ 20.635483, -12.737426], dtype=float32),\n",
       " array([ 20.650928, -12.738504], dtype=float32),\n",
       " array([ 20.666075, -12.739576], dtype=float32),\n",
       " array([ 20.68093 , -12.740642], dtype=float32),\n",
       " array([ 20.695494, -12.7417  ], dtype=float32),\n",
       " array([ 20.709772, -12.742752], dtype=float32),\n",
       " array([ 20.72377 , -12.743797], dtype=float32),\n",
       " array([ 20.73749 , -12.744837], dtype=float32),\n",
       " array([ 20.750937, -12.74587 ], dtype=float32),\n",
       " array([ 20.764114, -12.746896], dtype=float32),\n",
       " array([ 20.777027, -12.747916], dtype=float32),\n",
       " array([ 20.789679, -12.74893 ], dtype=float32),\n",
       " array([ 20.802073, -12.749938], dtype=float32),\n",
       " array([ 20.814215, -12.750939], dtype=float32),\n",
       " array([ 20.826107, -12.751935], dtype=float32),\n",
       " array([ 20.837753, -12.752925], dtype=float32),\n",
       " array([ 20.849157, -12.753909], dtype=float32),\n",
       " array([ 20.860325, -12.754887], dtype=float32),\n",
       " array([ 20.871258, -12.755858], dtype=float32),\n",
       " array([ 20.88196  , -12.7568245], dtype=float32),\n",
       " array([ 20.892435, -12.757785], dtype=float32),\n",
       " array([ 20.902689, -12.758739], dtype=float32),\n",
       " array([ 20.912724, -12.759688], dtype=float32),\n",
       " array([ 20.922543 , -12.7606325], dtype=float32),\n",
       " array([ 20.932148, -12.761571], dtype=float32),\n",
       " array([ 20.941545, -12.762504], dtype=float32),\n",
       " array([ 20.950739, -12.763431], dtype=float32),\n",
       " array([ 20.95973 , -12.764353], dtype=float32),\n",
       " array([ 20.968523, -12.765269], dtype=float32),\n",
       " array([ 20.977121, -12.76618 ], dtype=float32),\n",
       " array([ 20.985529, -12.767086], dtype=float32),\n",
       " array([ 20.99375 , -12.767986], dtype=float32),\n",
       " array([ 21.001785, -12.768882], dtype=float32),\n",
       " array([ 21.00964 , -12.769773], dtype=float32),\n",
       " array([ 21.017317, -12.770658], dtype=float32),\n",
       " array([ 21.024818, -12.771538], dtype=float32),\n",
       " array([ 21.032148, -12.772413], dtype=float32),\n",
       " array([ 21.03931 , -12.773284], dtype=float32),\n",
       " array([ 21.046307, -12.774149], dtype=float32),\n",
       " array([ 21.05314 , -12.775009], dtype=float32),\n",
       " array([ 21.059816, -12.775865], dtype=float32),\n",
       " array([ 21.066336, -12.776715], dtype=float32),\n",
       " array([ 21.0727  , -12.777561], dtype=float32),\n",
       " array([ 21.078917, -12.778402], dtype=float32),\n",
       " array([ 21.084984, -12.779239], dtype=float32),\n",
       " array([ 21.090906, -12.78007 ], dtype=float32),\n",
       " array([ 21.096687, -12.780898], dtype=float32),\n",
       " array([ 21.10233 , -12.781721], dtype=float32),\n",
       " array([ 21.107836, -12.782539], dtype=float32),\n",
       " array([ 21.113209, -12.783353], dtype=float32),\n",
       " array([ 21.11845  , -12.7841625], dtype=float32),\n",
       " array([ 21.123564, -12.784967], dtype=float32),\n",
       " array([ 21.128551, -12.785768], dtype=float32),\n",
       " array([ 21.133415, -12.786564], dtype=float32),\n",
       " array([ 21.138159, -12.787355], dtype=float32),\n",
       " array([ 21.142784, -12.788143], dtype=float32),\n",
       " array([ 21.147293, -12.788926], dtype=float32),\n",
       " array([ 21.15169 , -12.789705], dtype=float32),\n",
       " array([ 21.155975, -12.790481], dtype=float32),\n",
       " array([ 21.160152, -12.791251], dtype=float32),\n",
       " array([ 21.164223, -12.792018], dtype=float32),\n",
       " array([ 21.168188, -12.792781], dtype=float32),\n",
       " array([ 21.172052, -12.793539], dtype=float32),\n",
       " array([ 21.175817, -12.794293], dtype=float32),\n",
       " array([ 21.179485, -12.795044], dtype=float32),\n",
       " array([ 21.183058, -12.795791], dtype=float32),\n",
       " array([ 21.186537, -12.796534], dtype=float32),\n",
       " array([ 21.189924, -12.797273], dtype=float32),\n",
       " array([ 21.193222, -12.798008], dtype=float32),\n",
       " array([ 21.196432, -12.798739], dtype=float32),\n",
       " array([ 21.199558, -12.799467], dtype=float32),\n",
       " array([ 21.2026  , -12.800191], dtype=float32),\n",
       " array([ 21.20556 , -12.800911], dtype=float32),\n",
       " array([ 21.20844 , -12.801627], dtype=float32),\n",
       " array([ 21.211245, -12.80234 ], dtype=float32),\n",
       " array([ 21.213972, -12.803048], dtype=float32),\n",
       " array([ 21.216625, -12.803753], dtype=float32),\n",
       " array([ 21.219206, -12.804455], dtype=float32),\n",
       " array([ 21.221716, -12.805153], dtype=float32),\n",
       " array([ 21.224155, -12.805847], dtype=float32),\n",
       " array([ 21.226528, -12.806538], dtype=float32),\n",
       " array([ 21.228834, -12.807225], dtype=float32),\n",
       " array([ 21.231077, -12.807909], dtype=float32),\n",
       " array([ 21.233257, -12.808589], dtype=float32),\n",
       " array([ 21.235374, -12.809266], dtype=float32),\n",
       " array([ 21.237432, -12.809939], dtype=float32),\n",
       " array([ 21.239431, -12.81061 ], dtype=float32),\n",
       " array([ 21.241375, -12.811276], dtype=float32),\n",
       " array([ 21.243261, -12.81194 ], dtype=float32),\n",
       " array([ 21.245094, -12.8126  ], dtype=float32),\n",
       " array([ 21.246874, -12.813257], dtype=float32),\n",
       " array([ 21.248602, -12.813911], dtype=float32),\n",
       " array([ 21.25028 , -12.814562], dtype=float32),\n",
       " array([ 21.25191 , -12.815209], dtype=float32),\n",
       " array([ 21.25349 , -12.815853], dtype=float32),\n",
       " array([ 21.255026, -12.816494], dtype=float32),\n",
       " array([ 21.256516, -12.817132], dtype=float32),\n",
       " array([ 21.257961, -12.817767], dtype=float32),\n",
       " array([ 21.259363, -12.818398], dtype=float32),\n",
       " array([ 21.260723, -12.819027], dtype=float32),\n",
       " array([ 21.262043, -12.819653], dtype=float32),\n",
       " array([ 21.263323, -12.820275], dtype=float32),\n",
       " array([ 21.264565, -12.820895], dtype=float32),\n",
       " array([ 21.265768, -12.821512], dtype=float32),\n",
       " array([ 21.266935, -12.822126], dtype=float32),\n",
       " array([ 21.268066, -12.822738], dtype=float32),\n",
       " array([ 21.269163, -12.823345], dtype=float32),\n",
       " array([ 21.270226, -12.82395 ], dtype=float32),\n",
       " array([ 21.271255, -12.824552], dtype=float32),\n",
       " array([ 21.272253 , -12.8251505], dtype=float32),\n",
       " array([ 21.27322  , -12.8257475], dtype=float32),\n",
       " array([ 21.274157, -12.826342], dtype=float32),\n",
       " array([ 21.275063, -12.826933], dtype=float32),\n",
       " array([ 21.27594 , -12.827521], dtype=float32),\n",
       " array([ 21.27679 , -12.828107], dtype=float32),\n",
       " array([ 21.277615, -12.82869 ], dtype=float32),\n",
       " array([ 21.278412, -12.829269], dtype=float32),\n",
       " array([ 21.279182, -12.829846], dtype=float32),\n",
       " array([ 21.279928, -12.830421], dtype=float32),\n",
       " array([ 21.280651, -12.830994], dtype=float32),\n",
       " array([ 21.28135 , -12.831563], dtype=float32),\n",
       " array([ 21.282026 , -12.8321295], dtype=float32),\n",
       " array([ 21.28268 , -12.832694], dtype=float32),\n",
       " array([ 21.283314, -12.833256], dtype=float32),\n",
       " array([ 21.283926, -12.833815], dtype=float32),\n",
       " array([ 21.284517, -12.834372], dtype=float32),\n",
       " array([ 21.28509 , -12.834926], dtype=float32),\n",
       " array([ 21.285643, -12.835477], dtype=float32),\n",
       " array([ 21.286177, -12.836026], dtype=float32),\n",
       " array([ 21.286694, -12.836573], dtype=float32),\n",
       " array([ 21.287193, -12.837117], dtype=float32),\n",
       " array([ 21.287676, -12.837659], dtype=float32),\n",
       " array([ 21.288141, -12.838198], dtype=float32),\n",
       " array([ 21.288591, -12.838735], dtype=float32),\n",
       " array([ 21.289026, -12.839269], dtype=float32),\n",
       " array([ 21.289446, -12.839801], dtype=float32),\n",
       " array([ 21.28985 , -12.840331], dtype=float32),\n",
       " array([ 21.290241, -12.840858], dtype=float32),\n",
       " array([ 21.290619, -12.841384], dtype=float32),\n",
       " array([ 21.290983, -12.841907], dtype=float32),\n",
       " array([ 21.291334, -12.842427], dtype=float32),\n",
       " array([ 21.291674, -12.842945], dtype=float32),\n",
       " array([ 21.292   , -12.843461], dtype=float32),\n",
       " array([ 21.292315, -12.843975], dtype=float32),\n",
       " array([ 21.292618, -12.844486], dtype=float32),\n",
       " array([ 21.292912 , -12.8449955], dtype=float32),\n",
       " array([ 21.293194, -12.845503], dtype=float32),\n",
       " array([ 21.293467, -12.846007], dtype=float32),\n",
       " array([ 21.29373, -12.84651], dtype=float32),\n",
       " array([ 21.293982, -12.847011], dtype=float32),\n",
       " array([ 21.294226, -12.847509], dtype=float32),\n",
       " array([ 21.29446 , -12.848005], dtype=float32),\n",
       " array([ 21.294685, -12.848499], dtype=float32),\n",
       " array([ 21.294903, -12.848991], dtype=float32),\n",
       " array([ 21.295113, -12.849482], dtype=float32),\n",
       " array([ 21.295315, -12.84997 ], dtype=float32),\n",
       " array([ 21.29551 , -12.850456], dtype=float32),\n",
       " array([ 21.295696, -12.85094 ], dtype=float32),\n",
       " array([ 21.295876, -12.851421], dtype=float32),\n",
       " array([ 21.29605 , -12.851901], dtype=float32),\n",
       " array([ 21.296215, -12.852379], dtype=float32),\n",
       " array([ 21.296375, -12.852855], dtype=float32),\n",
       " array([ 21.29653 , -12.853329], dtype=float32),\n",
       " array([ 21.296679, -12.853801], dtype=float32),\n",
       " array([ 21.296822, -12.854271], dtype=float32),\n",
       " array([ 21.296959, -12.854739], dtype=float32),\n",
       " array([ 21.29709 , -12.855206], dtype=float32),\n",
       " array([ 21.297216, -12.85567 ], dtype=float32),\n",
       " array([ 21.297338 , -12.8561325], dtype=float32),\n",
       " array([ 21.297455, -12.856593], dtype=float32),\n",
       " array([ 21.297567, -12.857052], dtype=float32),\n",
       " array([ 21.297674, -12.857509], dtype=float32),\n",
       " array([ 21.297777, -12.857964], dtype=float32),\n",
       " array([ 21.297876, -12.858417], dtype=float32),\n",
       " array([ 21.297972, -12.858868], dtype=float32),\n",
       " array([ 21.298063, -12.859317], dtype=float32),\n",
       " array([ 21.298151, -12.859764], dtype=float32),\n",
       " array([ 21.298235, -12.860209], dtype=float32),\n",
       " array([ 21.298315, -12.860653], dtype=float32),\n",
       " array([ 21.298391, -12.861094], dtype=float32),\n",
       " array([ 21.298466, -12.861535], dtype=float32),\n",
       " array([ 21.298536, -12.861974], dtype=float32),\n",
       " array([ 21.298605, -12.862411], dtype=float32),\n",
       " array([ 21.29867 , -12.862845], dtype=float32),\n",
       " array([ 21.298733, -12.863278], dtype=float32),\n",
       " array([ 21.298792, -12.86371 ], dtype=float32),\n",
       " array([ 21.29885  , -12.8641405], dtype=float32),\n",
       " array([ 21.298904, -12.864569], dtype=float32),\n",
       " array([ 21.298956, -12.864995], dtype=float32),\n",
       " array([ 21.299006, -12.865419], dtype=float32),\n",
       " array([ 21.299053, -12.865843], dtype=float32),\n",
       " array([ 21.299099, -12.866264], dtype=float32),\n",
       " array([ 21.299143, -12.866684], dtype=float32),\n",
       " array([ 21.299185, -12.867103], dtype=float32),\n",
       " array([ 21.299225, -12.867519], dtype=float32),\n",
       " array([ 21.299263, -12.867934], dtype=float32),\n",
       " array([ 21.2993  , -12.868347], dtype=float32),\n",
       " array([ 21.299334, -12.868759], dtype=float32),\n",
       " array([ 21.299366, -12.869169], dtype=float32),\n",
       " array([ 21.299398, -12.869577], dtype=float32),\n",
       " array([ 21.299429, -12.869985], dtype=float32),\n",
       " array([ 21.299458, -12.87039 ], dtype=float32),\n",
       " array([ 21.299486, -12.870794], dtype=float32),\n",
       " array([ 21.299513, -12.871197], dtype=float32),\n",
       " array([ 21.299538, -12.871597], dtype=float32),\n",
       " array([ 21.299562, -12.871997], dtype=float32),\n",
       " array([ 21.299585, -12.872395], dtype=float32),\n",
       " array([ 21.299606, -12.872791], dtype=float32),\n",
       " array([ 21.299627, -12.873186], dtype=float32),\n",
       " array([ 21.299646, -12.873579], dtype=float32),\n",
       " array([ 21.299665, -12.873971], dtype=float32),\n",
       " array([ 21.299683, -12.874361], dtype=float32),\n",
       " array([ 21.2997 , -12.87475], dtype=float32),\n",
       " array([ 21.299717, -12.875137], dtype=float32),\n",
       " array([ 21.299732, -12.875524], dtype=float32),\n",
       " array([ 21.299747, -12.875908], dtype=float32),\n",
       " array([ 21.29976 , -12.876291], dtype=float32),\n",
       " array([ 21.299774, -12.876673], dtype=float32),\n",
       " array([ 21.299788, -12.877053], dtype=float32),\n",
       " array([ 21.299799, -12.877432], dtype=float32),\n",
       " array([ 21.29981, -12.87781], dtype=float32),\n",
       " array([ 21.299822, -12.878185], dtype=float32),\n",
       " array([ 21.299831, -12.87856 ], dtype=float32),\n",
       " array([ 21.29984 , -12.878934], dtype=float32),\n",
       " array([ 21.29985 , -12.879306], dtype=float32),\n",
       " array([ 21.29986 , -12.879677], dtype=float32),\n",
       " array([ 21.299868, -12.880046], dtype=float32),\n",
       " array([ 21.299875, -12.880414], dtype=float32),\n",
       " array([ 21.299883, -12.88078 ], dtype=float32),\n",
       " array([ 21.29989  , -12.8811455], dtype=float32),\n",
       " array([ 21.299898, -12.88151 ], dtype=float32),\n",
       " array([ 21.299904, -12.881872], dtype=float32),\n",
       " array([ 21.29991 , -12.882234], dtype=float32),\n",
       " array([ 21.299915, -12.882594], dtype=float32),\n",
       " array([ 21.299921, -12.882953], dtype=float32),\n",
       " array([ 21.299927, -12.88331 ], dtype=float32),\n",
       " array([ 21.299932, -12.883667], dtype=float32),\n",
       " array([ 21.299936, -12.884022], dtype=float32),\n",
       " array([ 21.29994 , -12.884376], dtype=float32),\n",
       " array([ 21.299944, -12.884728], dtype=float32),\n",
       " array([ 21.299948, -12.885079], dtype=float32),\n",
       " array([ 21.299952, -12.885429], dtype=float32),\n",
       " array([ 21.299955, -12.885778], dtype=float32),\n",
       " array([ 21.29996 , -12.886126], dtype=float32),\n",
       " array([ 21.299963, -12.886472], dtype=float32),\n",
       " array([ 21.299965, -12.886817], dtype=float32),\n",
       " array([ 21.299967, -12.887161], dtype=float32),\n",
       " array([ 21.299969, -12.887504], dtype=float32),\n",
       " array([ 21.29997 , -12.887845], dtype=float32),\n",
       " array([ 21.299973 , -12.8881855], dtype=float32),\n",
       " array([ 21.299974, -12.888525], dtype=float32),\n",
       " array([ 21.299976, -12.888863], dtype=float32),\n",
       " array([ 21.299978, -12.889199], dtype=float32),\n",
       " array([ 21.29998 , -12.889535], dtype=float32),\n",
       " array([ 21.299982, -12.88987 ], dtype=float32),\n",
       " array([ 21.299984, -12.890203], dtype=float32),\n",
       " array([ 21.299986, -12.890535], dtype=float32),\n",
       " array([ 21.299988, -12.890866], dtype=float32),\n",
       " array([ 21.29999 , -12.891196], dtype=float32),\n",
       " array([ 21.299992, -12.891525], dtype=float32),\n",
       " array([ 21.299994, -12.891853], dtype=float32),\n",
       " array([ 21.299994 , -12.8921795], dtype=float32),\n",
       " array([ 21.299994, -12.892505], dtype=float32),\n",
       " array([ 21.299994, -12.892829], dtype=float32),\n",
       " array([ 21.299994, -12.893152], dtype=float32),\n",
       " array([ 21.299994, -12.893475], dtype=float32),\n",
       " array([ 21.299994, -12.893796], dtype=float32),\n",
       " array([ 21.299994, -12.894116], dtype=float32),\n",
       " array([ 21.299994, -12.894435], dtype=float32),\n",
       " array([ 21.299994 , -12.8947525], dtype=float32),\n",
       " array([ 21.299994, -12.895069], dtype=float32),\n",
       " array([ 21.299994, -12.895385], dtype=float32),\n",
       " array([ 21.299994 , -12.8956995], dtype=float32),\n",
       " array([ 21.299994, -12.896013], dtype=float32),\n",
       " array([ 21.299994, -12.896326], dtype=float32),\n",
       " array([ 21.299994, -12.896638], dtype=float32),\n",
       " array([ 21.299994, -12.896949], dtype=float32),\n",
       " array([ 21.299994, -12.897259], dtype=float32),\n",
       " array([ 21.299994, -12.897568], dtype=float32),\n",
       " array([ 21.299994, -12.897875], dtype=float32),\n",
       " array([ 21.299994, -12.898181], dtype=float32),\n",
       " array([ 21.299994, -12.898486], dtype=float32),\n",
       " array([ 21.299994, -12.89879 ], dtype=float32),\n",
       " array([ 21.299994, -12.899094], dtype=float32),\n",
       " array([ 21.299994, -12.899396], dtype=float32),\n",
       " array([ 21.299994, -12.899697], dtype=float32),\n",
       " array([ 21.299994, -12.899998], dtype=float32),\n",
       " array([ 21.299994, -12.900297], dtype=float32),\n",
       " array([ 21.299994, -12.900596], dtype=float32),\n",
       " array([ 21.299994, -12.900893], dtype=float32),\n",
       " array([ 21.299994, -12.90119 ], dtype=float32),\n",
       " array([ 21.299994, -12.901485], dtype=float32),\n",
       " array([ 21.299994, -12.90178 ], dtype=float32),\n",
       " array([ 21.299994, -12.902074], dtype=float32),\n",
       " array([ 21.299994, -12.902367], dtype=float32),\n",
       " array([ 21.299994, -12.902658], dtype=float32),\n",
       " array([ 21.299994, -12.902949], dtype=float32),\n",
       " array([ 21.299994, -12.903239], dtype=float32),\n",
       " array([ 21.299994, -12.903528], dtype=float32),\n",
       " array([ 21.299994, -12.903816], dtype=float32),\n",
       " array([ 21.299994, -12.904103], dtype=float32),\n",
       " array([ 21.299994, -12.904389], dtype=float32),\n",
       " array([ 21.299994, -12.904675], dtype=float32),\n",
       " array([ 21.299994, -12.90496 ], dtype=float32),\n",
       " array([ 21.299994, -12.905244], dtype=float32),\n",
       " array([ 21.299994, -12.905527], dtype=float32),\n",
       " array([ 21.299994, -12.905809], dtype=float32),\n",
       " array([ 21.299994, -12.906091], dtype=float32),\n",
       " array([ 21.299994, -12.906371], dtype=float32),\n",
       " array([ 21.299994, -12.906651], dtype=float32),\n",
       " array([ 21.299994, -12.906929], dtype=float32),\n",
       " array([ 21.299994, -12.907207], dtype=float32),\n",
       " array([ 21.299994, -12.907483], dtype=float32),\n",
       " array([ 21.299994, -12.907759], dtype=float32),\n",
       " array([ 21.299994, -12.908033], dtype=float32),\n",
       " array([ 21.299994, -12.908308], dtype=float32),\n",
       " array([ 21.299994, -12.908582], dtype=float32),\n",
       " array([ 21.299994 , -12.9088545], dtype=float32),\n",
       " array([ 21.299994, -12.909126], dtype=float32),\n",
       " array([ 21.299994, -12.909397], dtype=float32),\n",
       " array([ 21.299994, -12.909667], dtype=float32)]"
      ]
     },
     "execution_count": 238,
     "metadata": {},
     "output_type": "execute_result"
    }
   ],
   "source": [
    "t_log"
   ]
  },
  {
   "cell_type": "code",
   "execution_count": 240,
   "id": "2e7a4b82",
   "metadata": {
    "scrolled": true
   },
   "outputs": [
    {
     "data": {
      "text/plain": [
       "[<matplotlib.lines.Line2D at 0x7f9ed9d48a00>,\n",
       " <matplotlib.lines.Line2D at 0x7f9ed9c65bd0>]"
      ]
     },
     "execution_count": 240,
     "metadata": {},
     "output_type": "execute_result"
    },
    {
     "data": {
      "image/png": "[encoded data removed]",
      "text/plain": [
       "<Figure size 432x288 with 1 Axes>"
      ]
     },
     "metadata": {
      "needs_background": "light"
     },
     "output_type": "display_data"
    }
   ],
   "source": [
    "plt.plot(t_log)"
   ]
  },
  {
   "cell_type": "code",
   "execution_count": null,
   "id": "b28cdb8d",
   "metadata": {},
   "outputs": [],
   "source": []
  },
  {
   "cell_type": "code",
   "execution_count": null,
   "id": "2e120e1a",
   "metadata": {},
   "outputs": [],
   "source": [
    "# definiere die Funktion nun so, dass ein bestimmter optimierer über das keyword argument\n",
    "# optimizer übergeben werden kann\n",
    "def optimize(f, x0, N, optimizer=torch.optim.SGD, lr=1e-2):\n",
    "    # ähnlich\n",
    "            \n",
    "    return x, log, log_f"
   ]
  },
  {
   "cell_type": "code",
   "execution_count": null,
   "id": "d68d7643",
   "metadata": {},
   "outputs": [],
   "source": []
  },
  {
   "cell_type": "code",
   "execution_count": null,
   "id": "64927626",
   "metadata": {},
   "outputs": [],
   "source": [
    "t_x, t_log, t_log_f = ADAM_optimize(f_2, torch.tensor([0.0, 0.0], requires_grad=True), 100)"
   ]
  },
  {
   "cell_type": "code",
   "execution_count": null,
   "id": "55f18c30",
   "metadata": {},
   "outputs": [],
   "source": [
    "t_x2, t_log2, t_log_f2 = optimize(f_2, torch.tensor([0.0, 0.0], requires_grad=True), 1000,\\\n",
    "                                        optimizer=torch.optim.Adadelta, lr=1)"
   ]
  },
  {
   "cell_type": "code",
   "execution_count": null,
   "id": "f249758a",
   "metadata": {
    "scrolled": true
   },
   "outputs": [],
   "source": [
    "plt.plot(t_log)"
   ]
  },
  {
   "cell_type": "code",
   "execution_count": null,
   "id": "d16fc06b",
   "metadata": {},
   "outputs": [],
   "source": [
    "plt.plot(t_log2)"
   ]
  },
  {
   "cell_type": "code",
   "execution_count": null,
   "id": "7fb245a8",
   "metadata": {},
   "outputs": [],
   "source": []
  },
  {
   "cell_type": "markdown",
   "id": "2491e921",
   "metadata": {},
   "source": [
    "# 4. Rosenbrock Funktion\n",
    "\n",
    "Mache auch die gleichen Vergleiche auch mit der Rosenbrock Funktion."
   ]
  },
  {
   "cell_type": "code",
   "execution_count": null,
   "id": "ad8af282",
   "metadata": {},
   "outputs": [],
   "source": [
    "def rosenbrock(x):\n",
    "    return (1.0 - x[0])**2 + 100.0 * (x[1] - x[0]**2)**2"
   ]
  },
  {
   "cell_type": "code",
   "execution_count": null,
   "id": "7ea71002",
   "metadata": {},
   "outputs": [],
   "source": [
    "t_x_2, t_log_2, t_log_f_2 = torch_optimize(rosenbrock, torch.tensor([0.0, 0.0], requires_grad=True), 500,  lr=0.001)"
   ]
  },
  {
   "cell_type": "code",
   "execution_count": null,
   "id": "139598b7",
   "metadata": {
    "scrolled": true
   },
   "outputs": [],
   "source": [
    "plt.plot(t_log_2)"
   ]
  },
  {
   "cell_type": "code",
   "execution_count": null,
   "id": "1934a8a9",
   "metadata": {},
   "outputs": [],
   "source": []
  },
  {
   "cell_type": "markdown",
   "id": "8fbb6642",
   "metadata": {},
   "source": [
    "# 5. Weitere Funktionen\n",
    "\n",
    "Auf Wikipedia findet man eine Reihe ganz verschiedener Funktionen.\n",
    "\n",
    "Versuche ein paar davon zu optimieren!\n",
    "\n",
    "https://en.wikipedia.org/wiki/Test_functions_for_optimization"
   ]
  },
  {
   "cell_type": "code",
   "execution_count": null,
   "id": "3633c0b8",
   "metadata": {},
   "outputs": [],
   "source": []
  },
  {
   "cell_type": "code",
   "execution_count": null,
   "id": "de3a7ec4",
   "metadata": {},
   "outputs": [],
   "source": [
    "t_x, t_log, t_log_f = torch_optimize(      , torch.tensor([0.2, 0.2], requires_grad=True), 5000, lr =0.01,\\\n",
    "                                     optimizer=torch.optim.Adadelta)"
   ]
  },
  {
   "cell_type": "code",
   "execution_count": null,
   "id": "61db983b",
   "metadata": {},
   "outputs": [],
   "source": [
    "plt.plot(t_log)"
   ]
  },
  {
   "cell_type": "code",
   "execution_count": null,
   "id": "52e0a9a1",
   "metadata": {},
   "outputs": [],
   "source": []
  }
 ],
 "metadata": {
  "kernelspec": {
   "display_name": "Python (naka)",
   "language": "python",
   "name": "pytorch_python"
  },
  "language_info": {
   "codemirror_mode": {
    "name": "ipython",
    "version": 3
   },
   "file_extension": ".py",
   "mimetype": "text/x-python",
   "name": "python",
   "nbconvert_exporter": "python",
   "pygments_lexer": "ipython3",
   "version": "3.10.6"
  }
 },
 "nbformat": 4,
 "nbformat_minor": 5
}
