{
 "cells": [
  {
   "cell_type": "markdown",
   "id": "4b0b26bc",
   "metadata": {},
   "source": [
    "# Convolutional Neural Networks trainieren & verbessern"
   ]
  },
  {
   "cell_type": "markdown",
   "id": "65290db0",
   "metadata": {},
   "source": [
    "## Convolutional Neural Networks für Bildklassifikation"
   ]
  },
  {
   "cell_type": "markdown",
   "id": "aa844c1b",
   "metadata": {},
   "source": [
    "### Aufgabe 1"
   ]
  },
  {
   "cell_type": "markdown",
   "id": "c2eb837d",
   "metadata": {},
   "source": [
    "Zu Beginn wollen wir das Klassifizieren der Ziffern des MNIST Datensatzes aufgreifen, was wir bereits mit Fully Connected Networks (FCNs) durchgeführt haben.\n",
    "\n",
    "Bereite den Datensatz, die `DataLoader` und die Loss-Funktion vor."
   ]
  },
  {
   "cell_type": "code",
   "execution_count": null,
   "id": "7f4226fe",
   "metadata": {},
   "outputs": [],
   "source": [
    "import torch\n",
    "import numpy as np\n",
    "import torchvision\n",
    "\n",
    "# ???"
   ]
  },
  {
   "cell_type": "markdown",
   "id": "9a1113f2",
   "metadata": {},
   "source": [
    "### Aufgabe 2"
   ]
  },
  {
   "cell_type": "markdown",
   "id": "bb87523d",
   "metadata": {},
   "source": [
    "Die wichtigsten Bestandteile eines Convolutional Neural Networks (CNNs) sind die [`torch.nn.Conv2d`](https://pytorch.org/docs/stable/generated/torch.nn.Conv2d.html) Layer. Die Faltungskernel haben üblicherweise die Größe $3\\times 3$. Im Verlaufe des Netzwerk wird das Bild immer weiter downgesampelt, indem beispielsweise bei der Faltung das Stride auf $2$ gesetzt wird oder Pooling Layer wie [`torch.nn.MaxPool2d`](https://pytorch.org/docs/stable/generated/torch.nn.MaxPool2d.html) verwendet werden. Nach jedem Downsampling wird die Anzahl der Channels um einen Faktor von $2$ erhöht, um die Zahl der Neuronen nicht zu stark zu reduzieren.\n",
    "\n",
    "Das letzte Layer ist fully connected, sodass man die Wahrscheinlichkeiten für die gewünschte Anzahl an Klassen erhält. Da ein solches Layer allerdings ein Batch von Vektoren erwartet, muss man die Feature vorher in Vektoren umwandeln. Eine Möglichkeit dies zu tun haben wir uns in der Übung zu FCNs angeschaut, eine andere ist [`torch.nn.AvgPool2d`](https://pytorch.org/docs/stable/generated/torch.nn.AvgPool2d.html)."
   ]
  },
  {
   "cell_type": "markdown",
   "id": "6b2e2db5",
   "metadata": {},
   "source": [
    "Baue ein Netzwerk, was aus $5$-$10$ Layern besteht und zwei Downsampling Operationen enthält. Überprüfe, ob die Dimensionen der Layer zusammen passen, indem du ein Batch mit deinem Netzwerk verarbeitest."
   ]
  },
  {
   "cell_type": "code",
   "execution_count": null,
   "id": "291f888a",
   "metadata": {},
   "outputs": [],
   "source": [
    "net = # ???\n",
    "\n",
    "x = mnist_train[0][0].reshape(1, 1, 28, 28)\n",
    "out = net(x)\n",
    "print(out)"
   ]
  },
  {
   "cell_type": "markdown",
   "id": "32128790",
   "metadata": {},
   "source": [
    "### Aufgabe 3"
   ]
  },
  {
   "cell_type": "markdown",
   "id": "5e3ff3d8",
   "metadata": {},
   "source": [
    "Trainiere dein Netzwerk und werte die Accuracy aus dem Testset aus."
   ]
  },
  {
   "cell_type": "code",
   "execution_count": null,
   "id": "c39184c4",
   "metadata": {},
   "outputs": [],
   "source": [
    "# Du kannst den Code aus der Übung zu FCNs wiederverwenden."
   ]
  },
  {
   "cell_type": "markdown",
   "id": "525d3e3f",
   "metadata": {},
   "source": [
    "## Neuronale Netze evaluieren und verbessern"
   ]
  },
  {
   "cell_type": "markdown",
   "id": "f34b5082",
   "metadata": {},
   "source": [
    "### Aufgabe 4"
   ]
  },
  {
   "cell_type": "markdown",
   "id": "7e9d2e2b",
   "metadata": {},
   "source": [
    "Die Confusion Matrix ist ein hilfreiches Tool, um die Fehler, die ein Netzwerk macht, zu verstehen. Sie kann man mit der Funktion `sklearn.metrics.confusion_matrix` ermitteln."
   ]
  },
  {
   "cell_type": "markdown",
   "id": "eb1fcf16",
   "metadata": {},
   "source": [
    "Bestimme die Confusion Matrix und stelle sie grafisch dar."
   ]
  },
  {
   "cell_type": "code",
   "execution_count": null,
   "id": "2293f291",
   "metadata": {},
   "outputs": [],
   "source": [
    "import seaborn as sns\n",
    "import pandas as pd\n",
    "\n",
    "from sklearn.metrics import confusion_matrix\n",
    "\n",
    "# Confusion Matrix bestimmen\n",
    "conf_mat = # ???\n",
    "\n",
    "# Grafische Darstellung\n",
    "classes = list(range(10))\n",
    "conf_mat_pd = pd.DataFrame(conf_mat, classes, classes)\n",
    "sns.heatmap(conf_mat_pd, annot=True)\n",
    "plt.show()"
   ]
  },
  {
   "cell_type": "markdown",
   "id": "d2579057",
   "metadata": {},
   "source": [
    "### Aufgabe 5"
   ]
  },
  {
   "cell_type": "markdown",
   "id": "566169d6",
   "metadata": {},
   "source": [
    "Ziffern zu klassifizieren ist ein relativ einfaches Problem und man kann mit relativ einfachen Modellen bereits eine Genauigkeit von $99\\%$ erreichen. Deswegen wollen wir jetzt mit dem komplexeren Datensatz CIFAR10 arbeiten, der Farbbilder der Größe $32\\times 32$ Pixel aus $10$ Klassen wie Frosch und Schiff beinhaltet."
   ]
  },
  {
   "cell_type": "markdown",
   "id": "d525f657",
   "metadata": {},
   "source": [
    "Lade den Datensatz mit [`torchvision.datasets.CIFAR10`](https://pytorch.org/vision/stable/generated/torchvision.datasets.CIFAR10.html) und visualisiere einige Bilder aus verschiedenen Klassen. Lass dir außerdem die Bezeichnungen der Klassen anzeigen."
   ]
  },
  {
   "cell_type": "code",
   "execution_count": null,
   "id": "af8ba918",
   "metadata": {},
   "outputs": [],
   "source": []
  },
  {
   "cell_type": "markdown",
   "id": "166d86fe",
   "metadata": {},
   "source": [
    "### Aufgabe 6"
   ]
  },
  {
   "cell_type": "markdown",
   "id": "bce3eaee",
   "metadata": {},
   "source": [
    "Teile den Trainingsdatensatz und ein Trainings- und einen Validierungsdatensatz auf, sodass zur Validierung etwa $10\\%$ der ursprünglichen Trainingsdaten verwendet werden. Erstelle `DataLoader` für den Trainings-, Validierungs- und Testdatensatz."
   ]
  },
  {
   "cell_type": "code",
   "execution_count": null,
   "id": "aefa372b",
   "metadata": {},
   "outputs": [],
   "source": []
  },
  {
   "cell_type": "markdown",
   "id": "9a34635a",
   "metadata": {},
   "source": [
    "### Aufgabe 7"
   ]
  },
  {
   "cell_type": "markdown",
   "id": "0aa2d199",
   "metadata": {},
   "source": [
    "Konstruiere ein CNN für den CIFAR10-Datensatz. Da die Bilder größer sind als die von MNIST, solltest du $3$ Downsampling Operationen einbauen."
   ]
  },
  {
   "cell_type": "code",
   "execution_count": null,
   "id": "acb63fd9",
   "metadata": {},
   "outputs": [],
   "source": [
    "net = # ???\n",
    "\n",
    "x = cifar10_train[0][0].reshape(1, 3, 32, 32)\n",
    "out = net(x)\n",
    "print(out)"
   ]
  },
  {
   "cell_type": "markdown",
   "id": "4a922907",
   "metadata": {},
   "source": [
    "### Aufgabe 8"
   ]
  },
  {
   "cell_type": "markdown",
   "id": "70377831",
   "metadata": {},
   "source": [
    "Trainiere dein CNN. Bestimme dabei die Genauigkeit nach jeder Epoche und stelle sie, den Loss, sowie die Confusion Matrix nach dem Training grafisch dar. \n",
    "\n",
    "Verwende bei der Evaluierung auschließlich den Validierungsdatensatz. Den Testdatensatz wollen wir erst ganz am Ende benutzen."
   ]
  },
  {
   "cell_type": "code",
   "execution_count": null,
   "id": "f036fcfa",
   "metadata": {},
   "outputs": [],
   "source": []
  },
  {
   "cell_type": "markdown",
   "id": "ccd8a819",
   "metadata": {},
   "source": [
    "### Aufgabe 9"
   ]
  },
  {
   "cell_type": "markdown",
   "id": "8fd8d8a8",
   "metadata": {},
   "source": [
    "Versuche die Performance deines Modells zu verbessern, indem du beispielsweise die Architektur optimierst, Regularisierung oder Data Augmentation verwendest und Learning Rate Decay benutzt.\n",
    "\n",
    "Beachte, dass Batch Normalization und Dropout Layer sich während des Trainings und der Evaluierung unterschiedlich verhalten haben, weswegen du deinem CNN explizit mit `net.train()` oder `net.eval()` mitteilen musst, in welcher Phase es sich befindet."
   ]
  },
  {
   "cell_type": "code",
   "execution_count": null,
   "id": "de9d3db8",
   "metadata": {},
   "outputs": [],
   "source": []
  },
  {
   "cell_type": "markdown",
   "id": "6b5c8df1",
   "metadata": {},
   "source": [
    "### Aufgabe 10"
   ]
  },
  {
   "cell_type": "markdown",
   "id": "b6bed74a",
   "metadata": {},
   "source": [
    "Bestimme nun die Genauigkeit und die Confusion Matrix auf dem Testset."
   ]
  },
  {
   "cell_type": "code",
   "execution_count": null,
   "id": "c9f1e1d1",
   "metadata": {},
   "outputs": [],
   "source": []
  }
 ],
 "metadata": {
  "kernelspec": {
   "display_name": "Python 3 (ipykernel)",
   "language": "python",
   "name": "python3"
  },
  "language_info": {
   "codemirror_mode": {
    "name": "ipython",
    "version": 3
   },
   "file_extension": ".py",
   "mimetype": "text/x-python",
   "name": "python",
   "nbconvert_exporter": "python",
   "pygments_lexer": "ipython3",
   "version": "3.9.12"
  }
 },
 "nbformat": 4,
 "nbformat_minor": 5
}
