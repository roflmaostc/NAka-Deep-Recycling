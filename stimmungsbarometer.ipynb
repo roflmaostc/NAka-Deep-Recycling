{
 "cells": [
  {
   "cell_type": "code",
   "execution_count": 38,
   "id": "105e9a89",
   "metadata": {},
   "outputs": [],
   "source": [
    "from scipy.optimize import curve_fit\n",
    "import matplotlib.pyplot as plt\n",
    "import numpy as np"
   ]
  },
  {
   "cell_type": "markdown",
   "id": "dcdfb820",
   "metadata": {},
   "source": [
    "# Preprocessing Data"
   ]
  },
  {
   "cell_type": "code",
   "execution_count": 110,
   "id": "7303848e",
   "metadata": {},
   "outputs": [],
   "source": [
    "data_raw = [[1020, 1003, 1008, 994, 966, 951, 925, 896, 897, 886, 869, 856,839, 818, 802, 790],\n",
    "            [1099, 1078, 1030, 1010,1001,985, 971,957,941,926,916,898,885,833],\n",
    "            [996,970,959,937,925,905,888,870,859,935,817,787],\n",
    "            [1073,1003,987,970,959,946,879,858,865,853,831,793],\n",
    "            [925,915,903,888,878,867,857,840,822,801,759],\n",
    "            [1042,1035,1009,984,975,941,931,923,912,901,886,874,835,821,807],\n",
    "            [1131,1082,1066,1055,1040,1020,999,979,907,815,801,737,698,685,513],\n",
    "            [902,889,880,865,853,844,833,823,808,759],\n",
    "            [1029,1006,879,853,832,819,800,784,770,750,733,663],\n",
    "            [916,894,875,860,851,840,833,821,805,795,783,687,766],\n",
    "            [981,964,951,937,921,802,783,765,732],\n",
    "            [935,920,907,897,886,875,863,849,838,833,778,711],\n",
    "            [1017,1087,931,917,905,891,881,859,842,834,787,716,606],\n",
    "            [848,837,829,817,808,787,779,768,758,747,737,721,641],\n",
    "            [969,912,901,890,878,866,857,830,811,807,773,689],\n",
    "            [864,851,848,835,824,814,801,794,761,752,742,716,674,600],\n",
    "            [859,845,833,823,815,805,793,781,769,760,751,705],\n",
    "            [810,795,747,694,655,622,549,534,467,450,139,126,117,103]]\n",
    "\n",
    "\n",
    "data = []\n",
    "x_data = []\n",
    "\n",
    "for (i,d) in enumerate(data_raw):\n",
    "    x_data += [i for _ in range(len(d))]\n",
    "    data += d\n",
    "    \n",
    "x_data = np.array(x_data)\n",
    "data = np.array(data)\n",
    "\n",
    "data = np.max(data) - data"
   ]
  },
  {
   "cell_type": "markdown",
   "id": "54d6c967",
   "metadata": {},
   "source": [
    "# Fitting"
   ]
  },
  {
   "cell_type": "code",
   "execution_count": 126,
   "id": "248ea88d",
   "metadata": {},
   "outputs": [],
   "source": [
    "def linear(x, a, b):\n",
    "    return x * a + b\n",
    "\n",
    "def polynome(x, a, b, c,d,e,f,g,h,i,j,k,l,m):\n",
    "    return c + a * x + b * x**2 + c * x**3 + d * x**4 + e * x**5 + f * x**6 + g * x**7 + h * x**8 + i * x**9 + j * x**10 + k * x**11 + l * x**12 + m * x**13 "
   ]
  },
  {
   "cell_type": "code",
   "execution_count": 127,
   "id": "e79c2c39",
   "metadata": {},
   "outputs": [],
   "source": [
    "plin, _ = curve_fit(linear, x_data, data)\n",
    "pexp, _ = curve_fit(polynome, x_data, data)"
   ]
  },
  {
   "cell_type": "markdown",
   "id": "35f71492",
   "metadata": {},
   "source": [
    "# Plotting"
   ]
  },
  {
   "cell_type": "code",
   "execution_count": 128,
   "id": "d6e14f57",
   "metadata": {
    "scrolled": true
   },
   "outputs": [
    {
     "data": {
      "text/plain": [
       "[<matplotlib.lines.Line2D at 0x7fbc63640490>]"
      ]
     },
     "execution_count": 128,
     "metadata": {},
     "output_type": "execute_result"
    },
    {
     "data": {
      "image/png": "[encoded data removed]",
      "text/plain": [
       "<Figure size 432x288 with 1 Axes>"
      ]
     },
     "metadata": {
      "needs_background": "light"
     },
     "output_type": "display_data"
    }
   ],
   "source": [
    "x_data_n = np.linspace(0, 17, num=1000)\n",
    "plt.plot(x_data, data, \"*\")\n",
    "plt.plot(x_data_n, linear(x_data_n, *plin))\n",
    "plt.plot(x_data_n, polynome(x_data_n, *pexp), \"r\")"
   ]
  }
 ],
 "metadata": {
  "kernelspec": {
   "display_name": "Python (naka)",
   "language": "python",
   "name": "pytorch_python"
  },
  "language_info": {
   "codemirror_mode": {
    "name": "ipython",
    "version": 3
   },
   "file_extension": ".py",
   "mimetype": "text/x-python",
   "name": "python",
   "nbconvert_exporter": "python",
   "pygments_lexer": "ipython3",
   "version": "3.10.6"
  }
 },
 "nbformat": 4,
 "nbformat_minor": 5
}
