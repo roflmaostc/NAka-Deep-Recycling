{
 "cells": [
  {
   "cell_type": "code",
   "execution_count": 1,
   "id": "58fa6c4e",
   "metadata": {},
   "outputs": [],
   "source": [
    "import numpy as np"
   ]
  },
  {
   "cell_type": "code",
   "execution_count": 100,
   "id": "fee66c53",
   "metadata": {},
   "outputs": [],
   "source": [
    "cpuh = 1000 * np.array([1216.19, 998.90, 405.63])\n",
    "gpuh = 1000 * np.array([412.63])"
   ]
  },
  {
   "cell_type": "code",
   "execution_count": 107,
   "id": "7ddaf21c",
   "metadata": {},
   "outputs": [],
   "source": [
    "watt_gpu = 300 * 1.5\n",
    "watt_cpu = 400 / 32"
   ]
  },
  {
   "cell_type": "code",
   "execution_count": 130,
   "id": "cebb1bd6",
   "metadata": {},
   "outputs": [],
   "source": [
    "Wh_sum = sum(gpuh * watt_gpu) + sum(watt_cpu * cpuh)"
   ]
  },
  {
   "cell_type": "code",
   "execution_count": 131,
   "id": "03e31813",
   "metadata": {
    "scrolled": true
   },
   "outputs": [
    {
     "data": {
      "text/plain": [
       "0.2184425"
      ]
     },
     "execution_count": 131,
     "metadata": {},
     "output_type": "execute_result"
    }
   ],
   "source": [
    "Wh_sum / 10**9"
   ]
  },
  {
   "cell_type": "code",
   "execution_count": 128,
   "id": "8acc89eb",
   "metadata": {},
   "outputs": [],
   "source": [
    "haushalt_Wh = 2000 * 10**3"
   ]
  },
  {
   "cell_type": "code",
   "execution_count": 129,
   "id": "b914f098",
   "metadata": {},
   "outputs": [
    {
     "data": {
      "text/plain": [
       "109.22125"
      ]
     },
     "execution_count": 129,
     "metadata": {},
     "output_type": "execute_result"
    }
   ],
   "source": [
    "Wh_sum / haushalt_Wh"
   ]
  },
  {
   "cell_type": "code",
   "execution_count": 122,
   "id": "6d8bb8d5",
   "metadata": {},
   "outputs": [],
   "source": [
    "CO2perWh = 0.468"
   ]
  },
  {
   "cell_type": "code",
   "execution_count": 77,
   "id": "3d2d762f",
   "metadata": {},
   "outputs": [
    {
     "data": {
      "text/plain": [
       "1226.49696"
      ]
     },
     "execution_count": 77,
     "metadata": {},
     "output_type": "execute_result"
    }
   ],
   "source": [
    "CO2perWh * Wh_sum / 10 ** 6"
   ]
  },
  {
   "cell_type": "code",
   "execution_count": null,
   "id": "e1addacb",
   "metadata": {},
   "outputs": [],
   "source": []
  }
 ],
 "metadata": {
  "kernelspec": {
   "display_name": "Python (naka)",
   "language": "python",
   "name": "pytorch_python"
  },
  "language_info": {
   "codemirror_mode": {
    "name": "ipython",
    "version": 3
   },
   "file_extension": ".py",
   "mimetype": "text/x-python",
   "name": "python",
   "nbconvert_exporter": "python",
   "pygments_lexer": "ipython3",
   "version": "3.10.6"
  }
 },
 "nbformat": 4,
 "nbformat_minor": 5
}
